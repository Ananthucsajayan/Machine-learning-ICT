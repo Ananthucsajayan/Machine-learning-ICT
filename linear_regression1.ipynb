{
  "nbformat": 4,
  "nbformat_minor": 0,
  "metadata": {
    "kernelspec": {
      "display_name": "Python 3",
      "language": "python",
      "name": "python3"
    },
    "language_info": {
      "codemirror_mode": {
        "name": "ipython",
        "version": 3
      },
      "file_extension": ".py",
      "mimetype": "text/x-python",
      "name": "python",
      "nbconvert_exporter": "python",
      "pygments_lexer": "ipython3",
      "version": "3.6.5"
    },
    "colab": {
      "provenance": [],
      "include_colab_link": true
    }
  },
  "cells": [
    {
      "cell_type": "markdown",
      "metadata": {
        "id": "view-in-github",
        "colab_type": "text"
      },
      "source": [
        "<a href=\"https://colab.research.google.com/github/Ananthucsajayan/Machine-learning-ICT/blob/main/linear_regression1.ipynb\" target=\"_parent\"><img src=\"https://colab.research.google.com/assets/colab-badge.svg\" alt=\"Open In Colab\"/></a>"
      ]
    },
    {
      "cell_type": "code",
      "metadata": {
        "id": "qKI5tJecpI2L"
      },
      "source": [
        "# import pandas\n",
        "import pandas as pd\n",
        "import numpy as np"
      ],
      "execution_count": 18,
      "outputs": []
    },
    {
      "cell_type": "code",
      "metadata": {
        "id": "I0un-EXRrrPG",
        "colab": {
          "base_uri": "https://localhost:8080/",
          "height": 1000
        },
        "outputId": "dda7b8d7-c1d1-4300-c840-815ec81abd4a"
      },
      "source": [
        "from google.colab import files\n",
        "files.upload()"
      ],
      "execution_count": 19,
      "outputs": [
        {
          "output_type": "display_data",
          "data": {
            "text/plain": [
              "<IPython.core.display.HTML object>"
            ],
            "text/html": [
              "\n",
              "     <input type=\"file\" id=\"files-3e68d1ba-ad11-45f5-8e57-5d870434bcd9\" name=\"files[]\" multiple disabled\n",
              "        style=\"border:none\" />\n",
              "     <output id=\"result-3e68d1ba-ad11-45f5-8e57-5d870434bcd9\">\n",
              "      Upload widget is only available when the cell has been executed in the\n",
              "      current browser session. Please rerun this cell to enable.\n",
              "      </output>\n",
              "      <script>// Copyright 2017 Google LLC\n",
              "//\n",
              "// Licensed under the Apache License, Version 2.0 (the \"License\");\n",
              "// you may not use this file except in compliance with the License.\n",
              "// You may obtain a copy of the License at\n",
              "//\n",
              "//      http://www.apache.org/licenses/LICENSE-2.0\n",
              "//\n",
              "// Unless required by applicable law or agreed to in writing, software\n",
              "// distributed under the License is distributed on an \"AS IS\" BASIS,\n",
              "// WITHOUT WARRANTIES OR CONDITIONS OF ANY KIND, either express or implied.\n",
              "// See the License for the specific language governing permissions and\n",
              "// limitations under the License.\n",
              "\n",
              "/**\n",
              " * @fileoverview Helpers for google.colab Python module.\n",
              " */\n",
              "(function(scope) {\n",
              "function span(text, styleAttributes = {}) {\n",
              "  const element = document.createElement('span');\n",
              "  element.textContent = text;\n",
              "  for (const key of Object.keys(styleAttributes)) {\n",
              "    element.style[key] = styleAttributes[key];\n",
              "  }\n",
              "  return element;\n",
              "}\n",
              "\n",
              "// Max number of bytes which will be uploaded at a time.\n",
              "const MAX_PAYLOAD_SIZE = 100 * 1024;\n",
              "\n",
              "function _uploadFiles(inputId, outputId) {\n",
              "  const steps = uploadFilesStep(inputId, outputId);\n",
              "  const outputElement = document.getElementById(outputId);\n",
              "  // Cache steps on the outputElement to make it available for the next call\n",
              "  // to uploadFilesContinue from Python.\n",
              "  outputElement.steps = steps;\n",
              "\n",
              "  return _uploadFilesContinue(outputId);\n",
              "}\n",
              "\n",
              "// This is roughly an async generator (not supported in the browser yet),\n",
              "// where there are multiple asynchronous steps and the Python side is going\n",
              "// to poll for completion of each step.\n",
              "// This uses a Promise to block the python side on completion of each step,\n",
              "// then passes the result of the previous step as the input to the next step.\n",
              "function _uploadFilesContinue(outputId) {\n",
              "  const outputElement = document.getElementById(outputId);\n",
              "  const steps = outputElement.steps;\n",
              "\n",
              "  const next = steps.next(outputElement.lastPromiseValue);\n",
              "  return Promise.resolve(next.value.promise).then((value) => {\n",
              "    // Cache the last promise value to make it available to the next\n",
              "    // step of the generator.\n",
              "    outputElement.lastPromiseValue = value;\n",
              "    return next.value.response;\n",
              "  });\n",
              "}\n",
              "\n",
              "/**\n",
              " * Generator function which is called between each async step of the upload\n",
              " * process.\n",
              " * @param {string} inputId Element ID of the input file picker element.\n",
              " * @param {string} outputId Element ID of the output display.\n",
              " * @return {!Iterable<!Object>} Iterable of next steps.\n",
              " */\n",
              "function* uploadFilesStep(inputId, outputId) {\n",
              "  const inputElement = document.getElementById(inputId);\n",
              "  inputElement.disabled = false;\n",
              "\n",
              "  const outputElement = document.getElementById(outputId);\n",
              "  outputElement.innerHTML = '';\n",
              "\n",
              "  const pickedPromise = new Promise((resolve) => {\n",
              "    inputElement.addEventListener('change', (e) => {\n",
              "      resolve(e.target.files);\n",
              "    });\n",
              "  });\n",
              "\n",
              "  const cancel = document.createElement('button');\n",
              "  inputElement.parentElement.appendChild(cancel);\n",
              "  cancel.textContent = 'Cancel upload';\n",
              "  const cancelPromise = new Promise((resolve) => {\n",
              "    cancel.onclick = () => {\n",
              "      resolve(null);\n",
              "    };\n",
              "  });\n",
              "\n",
              "  // Wait for the user to pick the files.\n",
              "  const files = yield {\n",
              "    promise: Promise.race([pickedPromise, cancelPromise]),\n",
              "    response: {\n",
              "      action: 'starting',\n",
              "    }\n",
              "  };\n",
              "\n",
              "  cancel.remove();\n",
              "\n",
              "  // Disable the input element since further picks are not allowed.\n",
              "  inputElement.disabled = true;\n",
              "\n",
              "  if (!files) {\n",
              "    return {\n",
              "      response: {\n",
              "        action: 'complete',\n",
              "      }\n",
              "    };\n",
              "  }\n",
              "\n",
              "  for (const file of files) {\n",
              "    const li = document.createElement('li');\n",
              "    li.append(span(file.name, {fontWeight: 'bold'}));\n",
              "    li.append(span(\n",
              "        `(${file.type || 'n/a'}) - ${file.size} bytes, ` +\n",
              "        `last modified: ${\n",
              "            file.lastModifiedDate ? file.lastModifiedDate.toLocaleDateString() :\n",
              "                                    'n/a'} - `));\n",
              "    const percent = span('0% done');\n",
              "    li.appendChild(percent);\n",
              "\n",
              "    outputElement.appendChild(li);\n",
              "\n",
              "    const fileDataPromise = new Promise((resolve) => {\n",
              "      const reader = new FileReader();\n",
              "      reader.onload = (e) => {\n",
              "        resolve(e.target.result);\n",
              "      };\n",
              "      reader.readAsArrayBuffer(file);\n",
              "    });\n",
              "    // Wait for the data to be ready.\n",
              "    let fileData = yield {\n",
              "      promise: fileDataPromise,\n",
              "      response: {\n",
              "        action: 'continue',\n",
              "      }\n",
              "    };\n",
              "\n",
              "    // Use a chunked sending to avoid message size limits. See b/62115660.\n",
              "    let position = 0;\n",
              "    do {\n",
              "      const length = Math.min(fileData.byteLength - position, MAX_PAYLOAD_SIZE);\n",
              "      const chunk = new Uint8Array(fileData, position, length);\n",
              "      position += length;\n",
              "\n",
              "      const base64 = btoa(String.fromCharCode.apply(null, chunk));\n",
              "      yield {\n",
              "        response: {\n",
              "          action: 'append',\n",
              "          file: file.name,\n",
              "          data: base64,\n",
              "        },\n",
              "      };\n",
              "\n",
              "      let percentDone = fileData.byteLength === 0 ?\n",
              "          100 :\n",
              "          Math.round((position / fileData.byteLength) * 100);\n",
              "      percent.textContent = `${percentDone}% done`;\n",
              "\n",
              "    } while (position < fileData.byteLength);\n",
              "  }\n",
              "\n",
              "  // All done.\n",
              "  yield {\n",
              "    response: {\n",
              "      action: 'complete',\n",
              "    }\n",
              "  };\n",
              "}\n",
              "\n",
              "scope.google = scope.google || {};\n",
              "scope.google.colab = scope.google.colab || {};\n",
              "scope.google.colab._files = {\n",
              "  _uploadFiles,\n",
              "  _uploadFilesContinue,\n",
              "};\n",
              "})(self);\n",
              "</script> "
            ]
          },
          "metadata": {}
        },
        {
          "output_type": "stream",
          "name": "stdout",
          "text": [
            "Saving Housing.csv to Housing (3).csv\n"
          ]
        },
        {
          "output_type": "execute_result",
          "data": {
            "text/plain": [
              "{'Housing (3).csv': b'price,area,bedrooms,bathrooms,stories,mainroad,guestroom,basement,hotwaterheating,airconditioning,parking,prefarea,furnishingstatus\\r\\n13300000,7420,4,2,3,yes,no,no,no,yes,2,yes,furnished\\r\\n12250000,8960,4,4,4,yes,no,no,no,yes,3,no,furnished\\r\\n12250000,9960,3,2,2,yes,no,yes,no,no,2,yes,semi-furnished\\r\\n12215000,7500,4,2,2,yes,no,yes,no,yes,3,yes,furnished\\r\\n11410000,7420,4,1,2,yes,yes,yes,no,yes,2,no,furnished\\r\\n10850000,7500,3,3,1,yes,no,yes,no,yes,2,yes,semi-furnished\\r\\n10150000,8580,4,3,4,yes,no,no,no,yes,2,yes,semi-furnished\\r\\n10150000,16200,5,3,2,yes,no,no,no,no,0,no,unfurnished\\r\\n9870000,8100,4,1,2,yes,yes,yes,no,yes,2,yes,furnished\\r\\n9800000,5750,3,2,4,yes,yes,no,no,yes,1,yes,unfurnished\\r\\n9800000,13200,3,1,2,yes,no,yes,no,yes,2,yes,furnished\\r\\n9681000,6000,4,3,2,yes,yes,yes,yes,no,2,no,semi-furnished\\r\\n9310000,6550,4,2,2,yes,no,no,no,yes,1,yes,semi-furnished\\r\\n9240000,3500,4,2,2,yes,no,no,yes,no,2,no,furnished\\r\\n9240000,7800,3,2,2,yes,no,no,no,no,0,yes,semi-furnished\\r\\n9100000,6000,4,1,2,yes,no,yes,no,no,2,no,semi-furnished\\r\\n9100000,6600,4,2,2,yes,yes,yes,no,yes,1,yes,unfurnished\\r\\n8960000,8500,3,2,4,yes,no,no,no,yes,2,no,furnished\\r\\n8890000,4600,3,2,2,yes,yes,no,no,yes,2,no,furnished\\r\\n8855000,6420,3,2,2,yes,no,no,no,yes,1,yes,semi-furnished\\r\\n8750000,4320,3,1,2,yes,no,yes,yes,no,2,no,semi-furnished\\r\\n8680000,7155,3,2,1,yes,yes,yes,no,yes,2,no,unfurnished\\r\\n8645000,8050,3,1,1,yes,yes,yes,no,yes,1,no,furnished\\r\\n8645000,4560,3,2,2,yes,yes,yes,no,yes,1,no,furnished\\r\\n8575000,8800,3,2,2,yes,no,no,no,yes,2,no,furnished\\r\\n8540000,6540,4,2,2,yes,yes,yes,no,yes,2,yes,furnished\\r\\n8463000,6000,3,2,4,yes,yes,yes,no,yes,0,yes,semi-furnished\\r\\n8400000,8875,3,1,1,yes,no,no,no,no,1,no,semi-furnished\\r\\n8400000,7950,5,2,2,yes,no,yes,yes,no,2,no,unfurnished\\r\\n8400000,5500,4,2,2,yes,no,yes,no,yes,1,yes,semi-furnished\\r\\n8400000,7475,3,2,4,yes,no,no,no,yes,2,no,unfurnished\\r\\n8400000,7000,3,1,4,yes,no,no,no,yes,2,no,semi-furnished\\r\\n8295000,4880,4,2,2,yes,no,no,no,yes,1,yes,furnished\\r\\n8190000,5960,3,3,2,yes,yes,yes,no,no,1,no,unfurnished\\r\\n8120000,6840,5,1,2,yes,yes,yes,no,yes,1,no,furnished\\r\\n8080940,7000,3,2,4,yes,no,no,no,yes,2,no,furnished\\r\\n8043000,7482,3,2,3,yes,no,no,yes,no,1,yes,furnished\\r\\n7980000,9000,4,2,4,yes,no,no,no,yes,2,no,furnished\\r\\n7962500,6000,3,1,4,yes,yes,no,no,yes,2,no,unfurnished\\r\\n7910000,6000,4,2,4,yes,no,no,no,yes,1,no,semi-furnished\\r\\n7875000,6550,3,1,2,yes,no,yes,no,yes,0,yes,furnished\\r\\n7840000,6360,3,2,4,yes,no,no,no,yes,0,yes,furnished\\r\\n7700000,6480,3,2,4,yes,no,no,no,yes,2,no,unfurnished\\r\\n7700000,6000,4,2,4,yes,no,no,no,no,2,no,semi-furnished\\r\\n7560000,6000,4,2,4,yes,no,no,no,yes,1,no,furnished\\r\\n7560000,6000,3,2,3,yes,no,no,no,yes,0,no,semi-furnished\\r\\n7525000,6000,3,2,4,yes,no,no,no,yes,1,no,furnished\\r\\n7490000,6600,3,1,4,yes,no,no,no,yes,3,yes,furnished\\r\\n7455000,4300,3,2,2,yes,no,yes,no,no,1,no,unfurnished\\r\\n7420000,7440,3,2,1,yes,yes,yes,no,yes,0,yes,semi-furnished\\r\\n7420000,7440,3,2,4,yes,no,no,no,no,1,yes,unfurnished\\r\\n7420000,6325,3,1,4,yes,no,no,no,yes,1,no,unfurnished\\r\\n7350000,6000,4,2,4,yes,yes,no,no,yes,1,no,furnished\\r\\n7350000,5150,3,2,4,yes,no,no,no,yes,2,no,semi-furnished\\r\\n7350000,6000,3,2,2,yes,yes,no,no,yes,1,no,semi-furnished\\r\\n7350000,6000,3,1,2,yes,no,no,no,yes,1,no,unfurnished\\r\\n7343000,11440,4,1,2,yes,no,yes,no,no,1,yes,semi-furnished\\r\\n7245000,9000,4,2,4,yes,yes,no,no,yes,1,yes,furnished\\r\\n7210000,7680,4,2,4,yes,yes,no,no,yes,1,no,semi-furnished\\r\\n7210000,6000,3,2,4,yes,yes,no,no,yes,1,no,furnished\\r\\n7140000,6000,3,2,2,yes,yes,no,no,no,1,no,semi-furnished\\r\\n7070000,8880,2,1,1,yes,no,no,no,yes,1,no,semi-furnished\\r\\n7070000,6240,4,2,2,yes,no,no,no,yes,1,no,furnished\\r\\n7035000,6360,4,2,3,yes,no,no,no,yes,2,yes,furnished\\r\\n7000000,11175,3,1,1,yes,no,yes,no,yes,1,yes,furnished\\r\\n6930000,8880,3,2,2,yes,no,yes,no,yes,1,no,furnished\\r\\n6930000,13200,2,1,1,yes,no,yes,yes,no,1,no,furnished\\r\\n6895000,7700,3,2,1,yes,no,no,no,no,2,no,unfurnished\\r\\n6860000,6000,3,1,1,yes,no,no,no,yes,1,no,furnished\\r\\n6790000,12090,4,2,2,yes,no,no,no,no,2,yes,furnished\\r\\n6790000,4000,3,2,2,yes,no,yes,no,yes,0,yes,semi-furnished\\r\\n6755000,6000,4,2,4,yes,no,no,no,yes,0,no,unfurnished\\r\\n6720000,5020,3,1,4,yes,no,no,no,yes,0,yes,unfurnished\\r\\n6685000,6600,2,2,4,yes,no,yes,no,no,0,yes,furnished\\r\\n6650000,4040,3,1,2,yes,no,yes,yes,no,1,no,furnished\\r\\n6650000,4260,4,2,2,yes,no,no,yes,no,0,no,semi-furnished\\r\\n6650000,6420,3,2,3,yes,no,no,no,yes,0,yes,furnished\\r\\n6650000,6500,3,2,3,yes,no,no,no,yes,0,yes,furnished\\r\\n6650000,5700,3,1,1,yes,yes,yes,no,yes,2,yes,furnished\\r\\n6650000,6000,3,2,3,yes,yes,no,no,yes,0,no,furnished\\r\\n6629000,6000,3,1,2,yes,no,no,yes,no,1,yes,semi-furnished\\r\\n6615000,4000,3,2,2,yes,no,yes,no,yes,1,no,semi-furnished\\r\\n6615000,10500,3,2,1,yes,no,yes,no,yes,1,yes,furnished\\r\\n6580000,6000,3,2,4,yes,no,no,no,yes,0,no,semi-furnished\\r\\n6510000,3760,3,1,2,yes,no,no,yes,no,2,no,semi-furnished\\r\\n6510000,8250,3,2,3,yes,no,no,no,yes,0,no,furnished\\r\\n6510000,6670,3,1,3,yes,no,yes,no,no,0,yes,unfurnished\\r\\n6475000,3960,3,1,1,yes,no,yes,no,no,2,no,semi-furnished\\r\\n6475000,7410,3,1,1,yes,yes,yes,no,yes,2,yes,unfurnished\\r\\n6440000,8580,5,3,2,yes,no,no,no,no,2,no,furnished\\r\\n6440000,5000,3,1,2,yes,no,no,no,yes,0,no,semi-furnished\\r\\n6419000,6750,2,1,1,yes,yes,yes,no,no,2,yes,furnished\\r\\n6405000,4800,3,2,4,yes,yes,no,no,yes,0,no,furnished\\r\\n6300000,7200,3,2,1,yes,no,yes,no,yes,3,no,semi-furnished\\r\\n6300000,6000,4,2,4,yes,no,no,no,no,1,no,semi-furnished\\r\\n6300000,4100,3,2,3,yes,no,no,no,yes,2,no,semi-furnished\\r\\n6300000,9000,3,1,1,yes,no,yes,no,no,1,yes,furnished\\r\\n6300000,6400,3,1,1,yes,yes,yes,no,yes,1,yes,semi-furnished\\r\\n6293000,6600,3,2,3,yes,no,no,no,yes,0,yes,unfurnished\\r\\n6265000,6000,4,1,3,yes,yes,yes,no,no,0,yes,unfurnished\\r\\n6230000,6600,3,2,1,yes,no,yes,no,yes,0,yes,unfurnished\\r\\n6230000,5500,3,1,3,yes,no,no,no,no,1,yes,unfurnished\\r\\n6195000,5500,3,2,4,yes,yes,no,no,yes,1,no,semi-furnished\\r\\n6195000,6350,3,2,3,yes,yes,no,no,yes,0,no,furnished\\r\\n6195000,5500,3,2,1,yes,yes,yes,no,no,2,yes,furnished\\r\\n6160000,4500,3,1,4,yes,no,no,no,yes,0,no,unfurnished\\r\\n6160000,5450,4,2,1,yes,no,yes,no,yes,0,yes,semi-furnished\\r\\n6125000,6420,3,1,3,yes,no,yes,no,no,0,yes,unfurnished\\r\\n6107500,3240,4,1,3,yes,no,no,no,no,1,no,semi-furnished\\r\\n6090000,6615,4,2,2,yes,yes,no,yes,no,1,no,semi-furnished\\r\\n6090000,6600,3,1,1,yes,yes,yes,no,no,2,yes,semi-furnished\\r\\n6090000,8372,3,1,3,yes,no,no,no,yes,2,no,unfurnished\\r\\n6083000,4300,6,2,2,yes,no,no,no,no,0,no,furnished\\r\\n6083000,9620,3,1,1,yes,no,yes,no,no,2,yes,furnished\\r\\n6020000,6800,2,1,1,yes,yes,yes,no,no,2,no,furnished\\r\\n6020000,8000,3,1,1,yes,yes,yes,no,yes,2,yes,semi-furnished\\r\\n6020000,6900,3,2,1,yes,yes,yes,no,no,0,yes,unfurnished\\r\\n5950000,3700,4,1,2,yes,yes,no,no,yes,0,no,furnished\\r\\n5950000,6420,3,1,1,yes,no,yes,no,yes,0,yes,furnished\\r\\n5950000,7020,3,1,1,yes,no,yes,no,yes,2,yes,semi-furnished\\r\\n5950000,6540,3,1,1,yes,yes,yes,no,no,2,yes,furnished\\r\\n5950000,7231,3,1,2,yes,yes,yes,no,yes,0,yes,semi-furnished\\r\\n5950000,6254,4,2,1,yes,no,yes,no,no,1,yes,semi-furnished\\r\\n5950000,7320,4,2,2,yes,no,no,no,no,0,no,furnished\\r\\n5950000,6525,3,2,4,yes,no,no,no,no,1,no,furnished\\r\\n5943000,15600,3,1,1,yes,no,no,no,yes,2,no,semi-furnished\\r\\n5880000,7160,3,1,1,yes,no,yes,no,no,2,yes,unfurnished\\r\\n5880000,6500,3,2,3,yes,no,no,no,yes,0,no,unfurnished\\r\\n5873000,5500,3,1,3,yes,yes,no,no,yes,1,no,furnished\\r\\n5873000,11460,3,1,3,yes,no,no,no,no,2,yes,semi-furnished\\r\\n5866000,4800,3,1,1,yes,yes,yes,no,no,0,no,unfurnished\\r\\n5810000,5828,4,1,4,yes,yes,no,no,no,0,no,semi-furnished\\r\\n5810000,5200,3,1,3,yes,no,no,no,yes,0,no,semi-furnished\\r\\n5810000,4800,3,1,3,yes,no,no,no,yes,0,no,unfurnished\\r\\n5803000,7000,3,1,1,yes,no,yes,no,no,2,yes,semi-furnished\\r\\n5775000,6000,3,2,4,yes,no,no,no,yes,0,no,unfurnished\\r\\n5740000,5400,4,2,2,yes,no,no,no,yes,2,no,unfurnished\\r\\n5740000,4640,4,1,2,yes,no,no,no,no,1,no,semi-furnished\\r\\n5740000,5000,3,1,3,yes,no,no,no,yes,0,no,semi-furnished\\r\\n5740000,6360,3,1,1,yes,yes,yes,no,yes,2,yes,furnished\\r\\n5740000,5800,3,2,4,yes,no,no,no,yes,0,no,unfurnished\\r\\n5652500,6660,4,2,2,yes,yes,yes,no,no,1,yes,semi-furnished\\r\\n5600000,10500,4,2,2,yes,no,no,no,no,1,no,semi-furnished\\r\\n5600000,4800,5,2,3,no,no,yes,yes,no,0,no,unfurnished\\r\\n5600000,4700,4,1,2,yes,yes,yes,no,yes,1,no,furnished\\r\\n5600000,5000,3,1,4,yes,no,no,no,no,0,no,furnished\\r\\n5600000,10500,2,1,1,yes,no,no,no,no,1,no,semi-furnished\\r\\n5600000,5500,3,2,2,yes,no,no,no,no,1,no,semi-furnished\\r\\n5600000,6360,3,1,3,yes,no,no,no,no,0,yes,semi-furnished\\r\\n5600000,6600,4,2,1,yes,no,yes,no,no,0,yes,semi-furnished\\r\\n5600000,5136,3,1,2,yes,yes,yes,no,yes,0,yes,unfurnished\\r\\n5565000,4400,4,1,2,yes,no,no,no,yes,2,yes,semi-furnished\\r\\n5565000,5400,5,1,2,yes,yes,yes,no,yes,0,yes,furnished\\r\\n5530000,3300,3,3,2,yes,no,yes,no,no,0,no,semi-furnished\\r\\n5530000,3650,3,2,2,yes,no,no,no,no,2,no,semi-furnished\\r\\n5530000,6100,3,2,1,yes,no,yes,no,no,2,yes,furnished\\r\\n5523000,6900,3,1,1,yes,yes,yes,no,no,0,yes,semi-furnished\\r\\n5495000,2817,4,2,2,no,yes,yes,no,no,1,no,furnished\\r\\n5495000,7980,3,1,1,yes,no,no,no,no,2,no,semi-furnished\\r\\n5460000,3150,3,2,1,yes,yes,yes,no,yes,0,no,furnished\\r\\n5460000,6210,4,1,4,yes,yes,no,no,yes,0,no,furnished\\r\\n5460000,6100,3,1,3,yes,yes,no,no,yes,0,yes,semi-furnished\\r\\n5460000,6600,4,2,2,yes,yes,yes,no,no,0,yes,semi-furnished\\r\\n5425000,6825,3,1,1,yes,yes,yes,no,yes,0,yes,semi-furnished\\r\\n5390000,6710,3,2,2,yes,yes,yes,no,no,1,yes,furnished\\r\\n5383000,6450,3,2,1,yes,yes,yes,yes,no,0,no,unfurnished\\r\\n5320000,7800,3,1,1,yes,no,yes,no,yes,2,yes,unfurnished\\r\\n5285000,4600,2,2,1,yes,no,no,no,yes,2,no,semi-furnished\\r\\n5250000,4260,4,1,2,yes,no,yes,no,yes,0,no,furnished\\r\\n5250000,6540,4,2,2,no,no,no,no,yes,0,no,semi-furnished\\r\\n5250000,5500,3,2,1,yes,no,yes,no,no,0,no,semi-furnished\\r\\n5250000,10269,3,1,1,yes,no,no,no,no,1,yes,semi-furnished\\r\\n5250000,8400,3,1,2,yes,yes,yes,no,yes,2,yes,unfurnished\\r\\n5250000,5300,4,2,1,yes,no,no,no,yes,0,yes,unfurnished\\r\\n5250000,3800,3,1,2,yes,yes,yes,no,no,1,yes,unfurnished\\r\\n5250000,9800,4,2,2,yes,yes,no,no,no,2,no,semi-furnished\\r\\n5250000,8520,3,1,1,yes,no,no,no,yes,2,no,furnished\\r\\n5243000,6050,3,1,1,yes,no,yes,no,no,0,yes,semi-furnished\\r\\n5229000,7085,3,1,1,yes,yes,yes,no,no,2,yes,semi-furnished\\r\\n5215000,3180,3,2,2,yes,no,no,no,no,2,no,semi-furnished\\r\\n5215000,4500,4,2,1,no,no,yes,no,yes,2,no,semi-furnished\\r\\n5215000,7200,3,1,2,yes,yes,yes,no,no,1,yes,furnished\\r\\n5145000,3410,3,1,2,no,no,no,no,yes,0,no,semi-furnished\\r\\n5145000,7980,3,1,1,yes,no,no,no,no,1,yes,semi-furnished\\r\\n5110000,3000,3,2,2,yes,yes,yes,no,no,0,no,furnished\\r\\n5110000,3000,3,1,2,yes,no,yes,no,no,0,no,unfurnished\\r\\n5110000,11410,2,1,2,yes,no,no,no,no,0,yes,furnished\\r\\n5110000,6100,3,1,1,yes,no,yes,no,yes,0,yes,semi-furnished\\r\\n5075000,5720,2,1,2,yes,no,no,no,yes,0,yes,unfurnished\\r\\n5040000,3540,2,1,1,no,yes,yes,no,no,0,no,semi-furnished\\r\\n5040000,7600,4,1,2,yes,no,no,no,yes,2,no,furnished\\r\\n5040000,10700,3,1,2,yes,yes,yes,no,no,0,no,semi-furnished\\r\\n5040000,6600,3,1,1,yes,yes,yes,no,no,0,yes,furnished\\r\\n5033000,4800,2,1,1,yes,yes,yes,no,no,0,no,semi-furnished\\r\\n5005000,8150,3,2,1,yes,yes,yes,no,no,0,no,semi-furnished\\r\\n4970000,4410,4,3,2,yes,no,yes,no,no,2,no,semi-furnished\\r\\n4970000,7686,3,1,1,yes,yes,yes,yes,no,0,no,semi-furnished\\r\\n4956000,2800,3,2,2,no,no,yes,no,yes,1,no,semi-furnished\\r\\n4935000,5948,3,1,2,yes,no,no,no,yes,0,no,semi-furnished\\r\\n4907000,4200,3,1,2,yes,no,no,no,no,1,no,furnished\\r\\n4900000,4520,3,1,2,yes,no,yes,no,yes,0,no,semi-furnished\\r\\n4900000,4095,3,1,2,no,yes,yes,no,yes,0,no,semi-furnished\\r\\n4900000,4120,2,1,1,yes,no,yes,no,no,1,no,semi-furnished\\r\\n4900000,5400,4,1,2,yes,no,no,no,no,0,no,semi-furnished\\r\\n4900000,4770,3,1,1,yes,yes,yes,no,no,0,no,semi-furnished\\r\\n4900000,6300,3,1,1,yes,no,no,no,yes,2,no,semi-furnished\\r\\n4900000,5800,2,1,1,yes,yes,yes,no,yes,0,no,semi-furnished\\r\\n4900000,3000,3,1,2,yes,no,yes,no,yes,0,no,semi-furnished\\r\\n4900000,2970,3,1,3,yes,no,no,no,no,0,no,semi-furnished\\r\\n4900000,6720,3,1,1,yes,no,no,no,no,0,no,unfurnished\\r\\n4900000,4646,3,1,2,yes,yes,yes,no,no,2,no,semi-furnished\\r\\n4900000,12900,3,1,1,yes,no,no,no,no,2,no,furnished\\r\\n4893000,3420,4,2,2,yes,no,yes,no,yes,2,no,semi-furnished\\r\\n4893000,4995,4,2,1,yes,no,yes,no,no,0,no,semi-furnished\\r\\n4865000,4350,2,1,1,yes,no,yes,no,no,0,no,unfurnished\\r\\n4830000,4160,3,1,3,yes,no,no,no,no,0,no,unfurnished\\r\\n4830000,6040,3,1,1,yes,no,no,no,no,2,yes,semi-furnished\\r\\n4830000,6862,3,1,2,yes,no,no,no,yes,2,yes,furnished\\r\\n4830000,4815,2,1,1,yes,no,no,no,yes,0,yes,semi-furnished\\r\\n4795000,7000,3,1,2,yes,no,yes,no,no,0,no,unfurnished\\r\\n4795000,8100,4,1,4,yes,no,yes,no,yes,2,no,semi-furnished\\r\\n4767000,3420,4,2,2,yes,no,no,no,no,0,no,semi-furnished\\r\\n4760000,9166,2,1,1,yes,no,yes,no,yes,2,no,semi-furnished\\r\\n4760000,6321,3,1,2,yes,no,yes,no,yes,1,no,furnished\\r\\n4760000,10240,2,1,1,yes,no,no,no,yes,2,yes,unfurnished\\r\\n4753000,6440,2,1,1,yes,no,no,no,yes,3,no,semi-furnished\\r\\n4690000,5170,3,1,4,yes,no,no,no,yes,0,no,semi-furnished\\r\\n4690000,6000,2,1,1,yes,no,yes,no,yes,1,no,furnished\\r\\n4690000,3630,3,1,2,yes,no,no,no,no,2,no,semi-furnished\\r\\n4690000,9667,4,2,2,yes,yes,yes,no,no,1,no,semi-furnished\\r\\n4690000,5400,2,1,2,yes,no,no,no,no,0,yes,semi-furnished\\r\\n4690000,4320,3,1,1,yes,no,no,no,no,0,yes,semi-furnished\\r\\n4655000,3745,3,1,2,yes,no,yes,no,no,0,no,furnished\\r\\n4620000,4160,3,1,1,yes,yes,yes,no,yes,0,no,unfurnished\\r\\n4620000,3880,3,2,2,yes,no,yes,no,no,2,no,semi-furnished\\r\\n4620000,5680,3,1,2,yes,yes,no,no,yes,1,no,semi-furnished\\r\\n4620000,2870,2,1,2,yes,yes,yes,no,no,0,yes,semi-furnished\\r\\n4620000,5010,3,1,2,yes,no,yes,no,no,0,no,semi-furnished\\r\\n4613000,4510,4,2,2,yes,no,yes,no,no,0,no,semi-furnished\\r\\n4585000,4000,3,1,2,yes,no,no,no,no,1,no,furnished\\r\\n4585000,3840,3,1,2,yes,no,no,no,no,1,yes,semi-furnished\\r\\n4550000,3760,3,1,1,yes,no,no,no,no,2,no,semi-furnished\\r\\n4550000,3640,3,1,2,yes,no,no,no,yes,0,no,furnished\\r\\n4550000,2550,3,1,2,yes,no,yes,no,no,0,no,furnished\\r\\n4550000,5320,3,1,2,yes,yes,yes,no,no,0,yes,semi-furnished\\r\\n4550000,5360,3,1,2,yes,no,no,no,no,2,yes,unfurnished\\r\\n4550000,3520,3,1,1,yes,no,no,no,no,0,yes,semi-furnished\\r\\n4550000,8400,4,1,4,yes,no,no,no,no,3,no,unfurnished\\r\\n4543000,4100,2,2,1,yes,yes,yes,no,no,0,no,semi-furnished\\r\\n4543000,4990,4,2,2,yes,yes,yes,no,no,0,yes,furnished\\r\\n4515000,3510,3,1,3,yes,no,no,no,no,0,no,semi-furnished\\r\\n4515000,3450,3,1,2,yes,no,yes,no,no,1,no,semi-furnished\\r\\n4515000,9860,3,1,1,yes,no,no,no,no,0,no,semi-furnished\\r\\n4515000,3520,2,1,2,yes,no,no,no,no,0,yes,furnished\\r\\n4480000,4510,4,1,2,yes,no,no,no,yes,2,no,semi-furnished\\r\\n4480000,5885,2,1,1,yes,no,no,no,yes,1,no,unfurnished\\r\\n4480000,4000,3,1,2,yes,no,no,no,no,2,no,furnished\\r\\n4480000,8250,3,1,1,yes,no,no,no,no,0,no,furnished\\r\\n4480000,4040,3,1,2,yes,no,no,no,no,1,no,semi-furnished\\r\\n4473000,6360,2,1,1,yes,no,yes,no,yes,1,no,furnished\\r\\n4473000,3162,3,1,2,yes,no,no,no,yes,1,no,furnished\\r\\n4473000,3510,3,1,2,yes,no,no,no,no,0,no,semi-furnished\\r\\n4445000,3750,2,1,1,yes,yes,yes,no,no,0,no,semi-furnished\\r\\n4410000,3968,3,1,2,no,no,no,no,no,0,no,semi-furnished\\r\\n4410000,4900,2,1,2,yes,no,yes,no,no,0,no,semi-furnished\\r\\n4403000,2880,3,1,2,yes,no,no,no,no,0,yes,semi-furnished\\r\\n4403000,4880,3,1,1,yes,no,no,no,no,2,yes,unfurnished\\r\\n4403000,4920,3,1,2,yes,no,no,no,no,1,no,semi-furnished\\r\\n4382000,4950,4,1,2,yes,no,no,no,yes,0,no,semi-furnished\\r\\n4375000,3900,3,1,2,yes,no,no,no,no,0,no,unfurnished\\r\\n4340000,4500,3,2,3,yes,no,no,yes,no,1,no,furnished\\r\\n4340000,1905,5,1,2,no,no,yes,no,no,0,no,semi-furnished\\r\\n4340000,4075,3,1,1,yes,yes,yes,no,no,2,no,semi-furnished\\r\\n4340000,3500,4,1,2,yes,no,no,no,no,2,no,furnished\\r\\n4340000,6450,4,1,2,yes,no,no,no,no,0,no,semi-furnished\\r\\n4319000,4032,2,1,1,yes,no,yes,no,no,0,no,furnished\\r\\n4305000,4400,2,1,1,yes,no,no,no,no,1,no,semi-furnished\\r\\n4305000,10360,2,1,1,yes,no,no,no,no,1,yes,semi-furnished\\r\\n4277000,3400,3,1,2,yes,no,yes,no,no,2,yes,semi-furnished\\r\\n4270000,6360,2,1,1,yes,no,no,no,no,0,no,furnished\\r\\n4270000,6360,2,1,2,yes,no,no,no,no,0,no,unfurnished\\r\\n4270000,4500,2,1,1,yes,no,no,no,yes,2,no,furnished\\r\\n4270000,2175,3,1,2,no,yes,yes,no,yes,0,no,unfurnished\\r\\n4270000,4360,4,1,2,yes,no,no,no,no,0,no,furnished\\r\\n4270000,7770,2,1,1,yes,no,no,no,no,1,no,furnished\\r\\n4235000,6650,3,1,2,yes,yes,no,no,no,0,no,semi-furnished\\r\\n4235000,2787,3,1,1,yes,no,yes,no,no,0,yes,furnished\\r\\n4200000,5500,3,1,2,yes,no,no,no,yes,0,no,unfurnished\\r\\n4200000,5040,3,1,2,yes,no,yes,no,yes,0,no,unfurnished\\r\\n4200000,5850,2,1,1,yes,yes,yes,no,no,2,no,semi-furnished\\r\\n4200000,2610,4,3,2,no,no,no,no,no,0,no,semi-furnished\\r\\n4200000,2953,3,1,2,yes,no,yes,no,yes,0,no,unfurnished\\r\\n4200000,2747,4,2,2,no,no,no,no,no,0,no,semi-furnished\\r\\n4200000,4410,2,1,1,no,no,no,no,no,1,no,unfurnished\\r\\n4200000,4000,4,2,2,no,no,no,no,no,0,no,semi-furnished\\r\\n4200000,2325,3,1,2,no,no,no,no,no,0,no,semi-furnished\\r\\n4200000,4600,3,2,2,yes,no,no,no,yes,1,no,semi-furnished\\r\\n4200000,3640,3,2,2,yes,no,yes,no,no,0,no,unfurnished\\r\\n4200000,5800,3,1,1,yes,no,no,yes,no,2,no,semi-furnished\\r\\n4200000,7000,3,1,1,yes,no,no,no,no,3,no,furnished\\r\\n4200000,4079,3,1,3,yes,no,no,no,no,0,no,semi-furnished\\r\\n4200000,3520,3,1,2,yes,no,no,no,no,0,yes,semi-furnished\\r\\n4200000,2145,3,1,3,yes,no,no,no,no,1,yes,unfurnished\\r\\n4200000,4500,3,1,1,yes,no,yes,no,no,0,no,furnished\\r\\n4193000,8250,3,1,1,yes,no,yes,no,no,3,no,semi-furnished\\r\\n4193000,3450,3,1,2,yes,no,no,no,no,1,no,semi-furnished\\r\\n4165000,4840,3,1,2,yes,no,no,no,no,1,no,semi-furnished\\r\\n4165000,4080,3,1,2,yes,no,no,no,no,2,no,semi-furnished\\r\\n4165000,4046,3,1,2,yes,no,yes,no,no,1,no,semi-furnished\\r\\n4130000,4632,4,1,2,yes,no,no,no,yes,0,no,semi-furnished\\r\\n4130000,5985,3,1,1,yes,no,yes,no,no,0,no,semi-furnished\\r\\n4123000,6060,2,1,1,yes,no,yes,no,no,1,no,semi-furnished\\r\\n4098500,3600,3,1,1,yes,no,yes,no,yes,0,yes,furnished\\r\\n4095000,3680,3,2,2,yes,no,no,no,no,0,no,semi-furnished\\r\\n4095000,4040,2,1,2,yes,no,no,no,no,1,no,semi-furnished\\r\\n4095000,5600,2,1,1,yes,no,no,no,yes,0,no,semi-furnished\\r\\n4060000,5900,4,2,2,no,no,yes,no,no,1,no,unfurnished\\r\\n4060000,4992,3,2,2,yes,no,no,no,no,2,no,unfurnished\\r\\n4060000,4340,3,1,1,yes,no,no,no,no,0,no,semi-furnished\\r\\n4060000,3000,4,1,3,yes,no,yes,no,yes,2,no,semi-furnished\\r\\n4060000,4320,3,1,2,yes,no,no,no,no,2,yes,furnished\\r\\n4025000,3630,3,2,2,yes,no,no,yes,no,2,no,semi-furnished\\r\\n4025000,3460,3,2,1,yes,no,yes,no,yes,1,no,furnished\\r\\n4025000,5400,3,1,1,yes,no,no,no,no,3,no,semi-furnished\\r\\n4007500,4500,3,1,2,no,no,yes,no,yes,0,no,semi-furnished\\r\\n4007500,3460,4,1,2,yes,no,no,no,yes,0,no,semi-furnished\\r\\n3990000,4100,4,1,1,no,no,yes,no,no,0,no,unfurnished\\r\\n3990000,6480,3,1,2,no,no,no,no,yes,1,no,semi-furnished\\r\\n3990000,4500,3,2,2,no,no,yes,no,yes,0,no,semi-furnished\\r\\n3990000,3960,3,1,2,yes,no,no,no,no,0,no,furnished\\r\\n3990000,4050,2,1,2,yes,yes,yes,no,no,0,yes,unfurnished\\r\\n3920000,7260,3,2,1,yes,yes,yes,no,no,3,no,furnished\\r\\n3920000,5500,4,1,2,yes,yes,yes,no,no,0,no,semi-furnished\\r\\n3920000,3000,3,1,2,yes,no,no,no,no,0,no,semi-furnished\\r\\n3920000,3290,2,1,1,yes,no,no,yes,no,1,no,furnished\\r\\n3920000,3816,2,1,1,yes,no,yes,no,yes,2,no,furnished\\r\\n3920000,8080,3,1,1,yes,no,no,no,yes,2,no,semi-furnished\\r\\n3920000,2145,4,2,1,yes,no,yes,no,no,0,yes,unfurnished\\r\\n3885000,3780,2,1,2,yes,yes,yes,no,no,0,no,semi-furnished\\r\\n3885000,3180,4,2,2,yes,no,no,no,no,0,no,furnished\\r\\n3850000,5300,5,2,2,yes,no,no,no,no,0,no,semi-furnished\\r\\n3850000,3180,2,2,1,yes,no,yes,no,no,2,no,semi-furnished\\r\\n3850000,7152,3,1,2,yes,no,no,no,yes,0,no,furnished\\r\\n3850000,4080,2,1,1,yes,no,no,no,no,0,no,semi-furnished\\r\\n3850000,3850,2,1,1,yes,no,no,no,no,0,no,semi-furnished\\r\\n3850000,2015,3,1,2,yes,no,yes,no,no,0,yes,semi-furnished\\r\\n3850000,2176,2,1,2,yes,yes,no,no,no,0,yes,semi-furnished\\r\\n3836000,3350,3,1,2,yes,no,no,no,no,0,no,unfurnished\\r\\n3815000,3150,2,2,1,no,no,yes,no,no,0,no,semi-furnished\\r\\n3780000,4820,3,1,2,yes,no,no,no,no,0,no,semi-furnished\\r\\n3780000,3420,2,1,2,yes,no,no,yes,no,1,no,semi-furnished\\r\\n3780000,3600,2,1,1,yes,no,no,no,no,0,no,semi-furnished\\r\\n3780000,5830,2,1,1,yes,no,no,no,no,2,no,unfurnished\\r\\n3780000,2856,3,1,3,yes,no,no,no,no,0,yes,furnished\\r\\n3780000,8400,2,1,1,yes,no,no,no,no,1,no,furnished\\r\\n3773000,8250,3,1,1,yes,no,no,no,no,2,no,furnished\\r\\n3773000,2520,5,2,1,no,no,yes,no,yes,1,no,furnished\\r\\n3773000,6930,4,1,2,no,no,no,no,no,1,no,furnished\\r\\n3745000,3480,2,1,1,yes,no,no,no,no,0,yes,semi-furnished\\r\\n3710000,3600,3,1,1,yes,no,no,no,no,1,no,unfurnished\\r\\n3710000,4040,2,1,1,yes,no,no,no,no,0,no,semi-furnished\\r\\n3710000,6020,3,1,1,yes,no,no,no,no,0,no,semi-furnished\\r\\n3710000,4050,2,1,1,yes,no,no,no,no,0,no,furnished\\r\\n3710000,3584,2,1,1,yes,no,no,yes,no,0,no,semi-furnished\\r\\n3703000,3120,3,1,2,no,no,yes,yes,no,0,no,semi-furnished\\r\\n3703000,5450,2,1,1,yes,no,no,no,no,0,no,furnished\\r\\n3675000,3630,2,1,1,yes,no,yes,no,no,0,no,furnished\\r\\n3675000,3630,2,1,1,yes,no,no,no,yes,0,no,unfurnished\\r\\n3675000,5640,2,1,1,no,no,no,no,no,0,no,semi-furnished\\r\\n3675000,3600,2,1,1,yes,no,no,no,no,0,no,furnished\\r\\n3640000,4280,2,1,1,yes,no,no,no,yes,2,no,semi-furnished\\r\\n3640000,3570,3,1,2,yes,no,yes,no,no,0,no,semi-furnished\\r\\n3640000,3180,3,1,2,no,no,yes,no,no,0,no,semi-furnished\\r\\n3640000,3000,2,1,2,yes,no,no,no,yes,0,no,furnished\\r\\n3640000,3520,2,2,1,yes,no,yes,no,no,0,no,semi-furnished\\r\\n3640000,5960,3,1,2,yes,yes,yes,no,no,0,no,unfurnished\\r\\n3640000,4130,3,2,2,yes,no,no,no,no,2,no,semi-furnished\\r\\n3640000,2850,3,2,2,no,no,yes,no,no,0,yes,unfurnished\\r\\n3640000,2275,3,1,3,yes,no,no,yes,yes,0,yes,semi-furnished\\r\\n3633000,3520,3,1,1,yes,no,no,no,no,2,yes,unfurnished\\r\\n3605000,4500,2,1,1,yes,no,no,no,no,0,no,semi-furnished\\r\\n3605000,4000,2,1,1,yes,no,no,no,no,0,yes,semi-furnished\\r\\n3570000,3150,3,1,2,yes,no,yes,no,no,0,no,furnished\\r\\n3570000,4500,4,2,2,yes,no,yes,no,no,2,no,furnished\\r\\n3570000,4500,2,1,1,no,no,no,no,no,0,no,furnished\\r\\n3570000,3640,2,1,1,yes,no,no,no,no,0,no,unfurnished\\r\\n3535000,3850,3,1,1,yes,no,no,no,no,2,no,unfurnished\\r\\n3500000,4240,3,1,2,yes,no,no,no,yes,0,no,semi-furnished\\r\\n3500000,3650,3,1,2,yes,no,no,no,no,0,no,unfurnished\\r\\n3500000,4600,4,1,2,yes,no,no,no,no,0,no,semi-furnished\\r\\n3500000,2135,3,2,2,no,no,no,no,no,0,no,unfurnished\\r\\n3500000,3036,3,1,2,yes,no,yes,no,no,0,no,semi-furnished\\r\\n3500000,3990,3,1,2,yes,no,no,no,no,0,no,semi-furnished\\r\\n3500000,7424,3,1,1,no,no,no,no,no,0,no,unfurnished\\r\\n3500000,3480,3,1,1,no,no,no,no,yes,0,no,unfurnished\\r\\n3500000,3600,6,1,2,yes,no,no,no,no,1,no,unfurnished\\r\\n3500000,3640,2,1,1,yes,no,no,no,no,1,no,semi-furnished\\r\\n3500000,5900,2,1,1,yes,no,no,no,no,1,no,furnished\\r\\n3500000,3120,3,1,2,yes,no,no,no,no,1,no,unfurnished\\r\\n3500000,7350,2,1,1,yes,no,no,no,no,1,no,semi-furnished\\r\\n3500000,3512,2,1,1,yes,no,no,no,no,1,yes,unfurnished\\r\\n3500000,9500,3,1,2,yes,no,no,no,no,3,yes,unfurnished\\r\\n3500000,5880,2,1,1,yes,no,no,no,no,0,no,unfurnished\\r\\n3500000,12944,3,1,1,yes,no,no,no,no,0,no,unfurnished\\r\\n3493000,4900,3,1,2,no,no,no,no,no,0,no,unfurnished\\r\\n3465000,3060,3,1,1,yes,no,no,no,no,0,no,unfurnished\\r\\n3465000,5320,2,1,1,yes,no,no,no,no,1,yes,unfurnished\\r\\n3465000,2145,3,1,3,yes,no,no,no,no,0,yes,furnished\\r\\n3430000,4000,2,1,1,yes,no,no,no,no,0,no,unfurnished\\r\\n3430000,3185,2,1,1,yes,no,no,no,no,2,no,unfurnished\\r\\n3430000,3850,3,1,1,yes,no,no,no,no,0,no,unfurnished\\r\\n3430000,2145,3,1,3,yes,no,no,no,no,0,yes,furnished\\r\\n3430000,2610,3,1,2,yes,no,yes,no,no,0,yes,unfurnished\\r\\n3430000,1950,3,2,2,yes,no,yes,no,no,0,yes,unfurnished\\r\\n3423000,4040,2,1,1,yes,no,no,no,no,0,no,unfurnished\\r\\n3395000,4785,3,1,2,yes,yes,yes,no,yes,1,no,furnished\\r\\n3395000,3450,3,1,1,yes,no,yes,no,no,2,no,unfurnished\\r\\n3395000,3640,2,1,1,yes,no,no,no,no,0,no,furnished\\r\\n3360000,3500,4,1,2,yes,no,no,no,yes,2,no,unfurnished\\r\\n3360000,4960,4,1,3,no,no,no,no,no,0,no,semi-furnished\\r\\n3360000,4120,2,1,2,yes,no,no,no,no,0,no,unfurnished\\r\\n3360000,4750,2,1,1,yes,no,no,no,no,0,no,unfurnished\\r\\n3360000,3720,2,1,1,no,no,no,no,yes,0,no,unfurnished\\r\\n3360000,3750,3,1,1,yes,no,no,no,no,0,no,unfurnished\\r\\n3360000,3100,3,1,2,no,no,yes,no,no,0,no,semi-furnished\\r\\n3360000,3185,2,1,1,yes,no,yes,no,no,2,no,furnished\\r\\n3353000,2700,3,1,1,no,no,no,no,no,0,no,furnished\\r\\n3332000,2145,3,1,2,yes,no,yes,no,no,0,yes,furnished\\r\\n3325000,4040,2,1,1,yes,no,no,no,no,1,no,unfurnished\\r\\n3325000,4775,4,1,2,yes,no,no,no,no,0,no,unfurnished\\r\\n3290000,2500,2,1,1,no,no,no,no,yes,0,no,unfurnished\\r\\n3290000,3180,4,1,2,yes,no,yes,no,yes,0,no,unfurnished\\r\\n3290000,6060,3,1,1,yes,yes,yes,no,no,0,no,furnished\\r\\n3290000,3480,4,1,2,no,no,no,no,no,1,no,semi-furnished\\r\\n3290000,3792,4,1,2,yes,no,no,no,no,0,no,semi-furnished\\r\\n3290000,4040,2,1,1,yes,no,no,no,no,0,no,unfurnished\\r\\n3290000,2145,3,1,2,yes,no,yes,no,no,0,yes,furnished\\r\\n3290000,5880,3,1,1,yes,no,no,no,no,1,no,unfurnished\\r\\n3255000,4500,2,1,1,no,no,no,no,no,0,no,semi-furnished\\r\\n3255000,3930,2,1,1,no,no,no,no,no,0,no,unfurnished\\r\\n3234000,3640,4,1,2,yes,no,yes,no,no,0,no,unfurnished\\r\\n3220000,4370,3,1,2,yes,no,no,no,no,0,no,unfurnished\\r\\n3220000,2684,2,1,1,yes,no,no,no,yes,1,no,unfurnished\\r\\n3220000,4320,3,1,1,no,no,no,no,no,1,no,unfurnished\\r\\n3220000,3120,3,1,2,no,no,no,no,no,0,no,furnished\\r\\n3150000,3450,1,1,1,yes,no,no,no,no,0,no,furnished\\r\\n3150000,3986,2,2,1,no,yes,yes,no,no,1,no,unfurnished\\r\\n3150000,3500,2,1,1,no,no,yes,no,no,0,no,semi-furnished\\r\\n3150000,4095,2,1,1,yes,no,no,no,no,2,no,semi-furnished\\r\\n3150000,1650,3,1,2,no,no,yes,no,no,0,no,unfurnished\\r\\n3150000,3450,3,1,2,yes,no,yes,no,no,0,no,semi-furnished\\r\\n3150000,6750,2,1,1,yes,no,no,no,no,0,no,semi-furnished\\r\\n3150000,9000,3,1,2,yes,no,no,no,no,2,no,semi-furnished\\r\\n3150000,3069,2,1,1,yes,no,no,no,no,1,no,unfurnished\\r\\n3143000,4500,3,1,2,yes,no,no,no,yes,0,no,unfurnished\\r\\n3129000,5495,3,1,1,yes,no,yes,no,no,0,no,unfurnished\\r\\n3118850,2398,3,1,1,yes,no,no,no,no,0,yes,semi-furnished\\r\\n3115000,3000,3,1,1,no,no,no,no,yes,0,no,unfurnished\\r\\n3115000,3850,3,1,2,yes,no,no,no,no,0,no,unfurnished\\r\\n3115000,3500,2,1,1,yes,no,no,no,no,0,no,unfurnished\\r\\n3087000,8100,2,1,1,yes,no,no,no,no,1,no,unfurnished\\r\\n3080000,4960,2,1,1,yes,no,yes,no,yes,0,no,unfurnished\\r\\n3080000,2160,3,1,2,no,no,yes,no,no,0,no,semi-furnished\\r\\n3080000,3090,2,1,1,yes,yes,yes,no,no,0,no,unfurnished\\r\\n3080000,4500,2,1,2,yes,no,no,yes,no,1,no,semi-furnished\\r\\n3045000,3800,2,1,1,yes,no,no,no,no,0,no,unfurnished\\r\\n3010000,3090,3,1,2,no,no,no,no,no,0,no,semi-furnished\\r\\n3010000,3240,3,1,2,yes,no,no,no,no,2,no,semi-furnished\\r\\n3010000,2835,2,1,1,yes,no,no,no,no,0,no,semi-furnished\\r\\n3010000,4600,2,1,1,yes,no,no,no,no,0,no,furnished\\r\\n3010000,5076,3,1,1,no,no,no,no,no,0,no,unfurnished\\r\\n3010000,3750,3,1,2,yes,no,no,no,no,0,no,unfurnished\\r\\n3010000,3630,4,1,2,yes,no,no,no,no,3,no,semi-furnished\\r\\n3003000,8050,2,1,1,yes,no,no,no,no,0,no,unfurnished\\r\\n2975000,4352,4,1,2,no,no,no,no,no,1,no,unfurnished\\r\\n2961000,3000,2,1,2,yes,no,no,no,no,0,no,semi-furnished\\r\\n2940000,5850,3,1,2,yes,no,yes,no,no,1,no,unfurnished\\r\\n2940000,4960,2,1,1,yes,no,no,no,no,0,no,unfurnished\\r\\n2940000,3600,3,1,2,no,no,no,no,no,1,no,unfurnished\\r\\n2940000,3660,4,1,2,no,no,no,no,no,0,no,unfurnished\\r\\n2940000,3480,3,1,2,no,no,no,no,no,1,no,semi-furnished\\r\\n2940000,2700,2,1,1,no,no,no,no,no,0,no,furnished\\r\\n2940000,3150,3,1,2,no,no,no,no,no,0,no,unfurnished\\r\\n2940000,6615,3,1,2,yes,no,no,no,no,0,no,semi-furnished\\r\\n2870000,3040,2,1,1,no,no,no,no,no,0,no,unfurnished\\r\\n2870000,3630,2,1,1,yes,no,no,no,no,0,no,unfurnished\\r\\n2870000,6000,2,1,1,yes,no,no,no,no,0,no,semi-furnished\\r\\n2870000,5400,4,1,2,yes,no,no,no,no,0,no,unfurnished\\r\\n2852500,5200,4,1,3,yes,no,no,no,no,0,no,unfurnished\\r\\n2835000,3300,3,1,2,no,no,no,no,no,1,no,semi-furnished\\r\\n2835000,4350,3,1,2,no,no,no,yes,no,1,no,unfurnished\\r\\n2835000,2640,2,1,1,no,no,no,no,no,1,no,furnished\\r\\n2800000,2650,3,1,2,yes,no,yes,no,no,1,no,unfurnished\\r\\n2800000,3960,3,1,1,yes,no,no,no,no,0,no,furnished\\r\\n2730000,6800,2,1,1,yes,no,no,no,no,0,no,unfurnished\\r\\n2730000,4000,3,1,2,yes,no,no,no,no,1,no,unfurnished\\r\\n2695000,4000,2,1,1,yes,no,no,no,no,0,no,unfurnished\\r\\n2660000,3934,2,1,1,yes,no,no,no,no,0,no,unfurnished\\r\\n2660000,2000,2,1,2,yes,no,no,no,no,0,no,semi-furnished\\r\\n2660000,3630,3,3,2,no,yes,no,no,no,0,no,unfurnished\\r\\n2660000,2800,3,1,1,yes,no,no,no,no,0,no,unfurnished\\r\\n2660000,2430,3,1,1,no,no,no,no,no,0,no,unfurnished\\r\\n2660000,3480,2,1,1,yes,no,no,no,no,1,no,semi-furnished\\r\\n2660000,4000,3,1,1,yes,no,no,no,no,0,no,semi-furnished\\r\\n2653000,3185,2,1,1,yes,no,no,no,yes,0,no,unfurnished\\r\\n2653000,4000,3,1,2,yes,no,no,no,yes,0,no,unfurnished\\r\\n2604000,2910,2,1,1,no,no,no,no,no,0,no,unfurnished\\r\\n2590000,3600,2,1,1,yes,no,no,no,no,0,no,unfurnished\\r\\n2590000,4400,2,1,1,yes,no,no,no,no,0,no,unfurnished\\r\\n2590000,3600,2,2,2,yes,no,yes,no,no,1,no,furnished\\r\\n2520000,2880,3,1,1,no,no,no,no,no,0,no,unfurnished\\r\\n2520000,3180,3,1,1,no,no,no,no,no,0,no,unfurnished\\r\\n2520000,3000,2,1,2,yes,no,no,no,no,0,no,furnished\\r\\n2485000,4400,3,1,2,yes,no,no,no,no,0,no,unfurnished\\r\\n2485000,3000,3,1,2,no,no,no,no,no,0,no,semi-furnished\\r\\n2450000,3210,3,1,2,yes,no,yes,no,no,0,no,unfurnished\\r\\n2450000,3240,2,1,1,no,yes,no,no,no,1,no,unfurnished\\r\\n2450000,3000,2,1,1,yes,no,no,no,no,1,no,unfurnished\\r\\n2450000,3500,2,1,1,yes,yes,no,no,no,0,no,unfurnished\\r\\n2450000,4840,2,1,2,yes,no,no,no,no,0,no,unfurnished\\r\\n2450000,7700,2,1,1,yes,no,no,no,no,0,no,unfurnished\\r\\n2408000,3635,2,1,1,no,no,no,no,no,0,no,unfurnished\\r\\n2380000,2475,3,1,2,yes,no,no,no,no,0,no,furnished\\r\\n2380000,2787,4,2,2,yes,no,no,no,no,0,no,furnished\\r\\n2380000,3264,2,1,1,yes,no,no,no,no,0,no,unfurnished\\r\\n2345000,3640,2,1,1,yes,no,no,no,no,0,no,unfurnished\\r\\n2310000,3180,2,1,1,yes,no,no,no,no,0,no,unfurnished\\r\\n2275000,1836,2,1,1,no,no,yes,no,no,0,no,semi-furnished\\r\\n2275000,3970,1,1,1,no,no,no,no,no,0,no,unfurnished\\r\\n2275000,3970,3,1,2,yes,no,yes,no,no,0,no,unfurnished\\r\\n2240000,1950,3,1,1,no,no,no,yes,no,0,no,unfurnished\\r\\n2233000,5300,3,1,1,no,no,no,no,yes,0,yes,unfurnished\\r\\n2135000,3000,2,1,1,no,no,no,no,no,0,no,unfurnished\\r\\n2100000,2400,3,1,2,yes,no,no,no,no,0,no,unfurnished\\r\\n2100000,3000,4,1,2,yes,no,no,no,no,0,no,unfurnished\\r\\n2100000,3360,2,1,1,yes,no,no,no,no,1,no,unfurnished\\r\\n1960000,3420,5,1,2,no,no,no,no,no,0,no,unfurnished\\r\\n1890000,1700,3,1,2,yes,no,no,no,no,0,no,unfurnished\\r\\n1890000,3649,2,1,1,yes,no,no,no,no,0,no,unfurnished\\r\\n1855000,2990,2,1,1,no,no,no,no,no,1,no,unfurnished\\r\\n1820000,3000,2,1,1,yes,no,yes,no,no,2,no,unfurnished\\r\\n1767150,2400,3,1,1,no,no,no,no,no,0,no,semi-furnished\\r\\n1750000,3620,2,1,1,yes,no,no,no,no,0,no,unfurnished\\r\\n1750000,2910,3,1,1,no,no,no,no,no,0,no,furnished\\r\\n1750000,3850,3,1,2,yes,no,no,no,no,0,no,unfurnished\\r\\n'}"
            ]
          },
          "metadata": {},
          "execution_count": 19
        }
      ]
    },
    {
      "cell_type": "code",
      "metadata": {
        "id": "byx3jU7npI2Q",
        "colab": {
          "base_uri": "https://localhost:8080/"
        },
        "outputId": "4787b0a0-44d4-4e8e-dc4a-316aef84f5fd"
      },
      "source": [
        "# read CSV file from the 'data' subdirectory using a relative path\n",
        "data = pd.read_csv('Housing.csv')\n",
        "\n",
        "# display the first 5 rows\n",
        "data.head(10)\n",
        "coldata = data.columns\n",
        "print(coldata)"
      ],
      "execution_count": 41,
      "outputs": [
        {
          "output_type": "stream",
          "name": "stdout",
          "text": [
            "Index(['price', 'area', 'bedrooms', 'bathrooms', 'stories', 'mainroad',\n",
            "       'guestroom', 'basement', 'hotwaterheating', 'airconditioning',\n",
            "       'parking', 'prefarea', 'furnishingstatus'],\n",
            "      dtype='object')\n"
          ]
        }
      ]
    },
    {
      "cell_type": "code",
      "source": [
        "data.drop(['mainroad', 'guestroom',\n",
        "       'basement', 'hotwaterheating', 'airconditioning', 'parking', 'prefarea',\n",
        "       'furnishingstatus'],axis=1,inplace=True)"
      ],
      "metadata": {
        "id": "nXy0WaYczGWM"
      },
      "execution_count": 42,
      "outputs": []
    },
    {
      "cell_type": "markdown",
      "metadata": {
        "id": "G4YSsk38pI2W"
      },
      "source": [
        "Primary object types:\n",
        "\n",
        "- **DataFrame:** rows and columns (like a spreadsheet)\n",
        "- **Series:** a single column"
      ]
    },
    {
      "cell_type": "code",
      "metadata": {
        "id": "n2Hkp3U7pI2Y",
        "colab": {
          "base_uri": "https://localhost:8080/",
          "height": 206
        },
        "outputId": "19beb905-d99c-4a53-a3b0-610853584581"
      },
      "source": [
        "# display the last 5 rows\n",
        "data.tail()"
      ],
      "execution_count": 43,
      "outputs": [
        {
          "output_type": "execute_result",
          "data": {
            "text/plain": [
              "       price  area  bedrooms  bathrooms  stories\n",
              "540  1820000  3000         2          1        1\n",
              "541  1767150  2400         3          1        1\n",
              "542  1750000  3620         2          1        1\n",
              "543  1750000  2910         3          1        1\n",
              "544  1750000  3850         3          1        2"
            ],
            "text/html": [
              "\n",
              "  <div id=\"df-7d0ec102-c6a4-468d-a27d-a624980a2044\" class=\"colab-df-container\">\n",
              "    <div>\n",
              "<style scoped>\n",
              "    .dataframe tbody tr th:only-of-type {\n",
              "        vertical-align: middle;\n",
              "    }\n",
              "\n",
              "    .dataframe tbody tr th {\n",
              "        vertical-align: top;\n",
              "    }\n",
              "\n",
              "    .dataframe thead th {\n",
              "        text-align: right;\n",
              "    }\n",
              "</style>\n",
              "<table border=\"1\" class=\"dataframe\">\n",
              "  <thead>\n",
              "    <tr style=\"text-align: right;\">\n",
              "      <th></th>\n",
              "      <th>price</th>\n",
              "      <th>area</th>\n",
              "      <th>bedrooms</th>\n",
              "      <th>bathrooms</th>\n",
              "      <th>stories</th>\n",
              "    </tr>\n",
              "  </thead>\n",
              "  <tbody>\n",
              "    <tr>\n",
              "      <th>540</th>\n",
              "      <td>1820000</td>\n",
              "      <td>3000</td>\n",
              "      <td>2</td>\n",
              "      <td>1</td>\n",
              "      <td>1</td>\n",
              "    </tr>\n",
              "    <tr>\n",
              "      <th>541</th>\n",
              "      <td>1767150</td>\n",
              "      <td>2400</td>\n",
              "      <td>3</td>\n",
              "      <td>1</td>\n",
              "      <td>1</td>\n",
              "    </tr>\n",
              "    <tr>\n",
              "      <th>542</th>\n",
              "      <td>1750000</td>\n",
              "      <td>3620</td>\n",
              "      <td>2</td>\n",
              "      <td>1</td>\n",
              "      <td>1</td>\n",
              "    </tr>\n",
              "    <tr>\n",
              "      <th>543</th>\n",
              "      <td>1750000</td>\n",
              "      <td>2910</td>\n",
              "      <td>3</td>\n",
              "      <td>1</td>\n",
              "      <td>1</td>\n",
              "    </tr>\n",
              "    <tr>\n",
              "      <th>544</th>\n",
              "      <td>1750000</td>\n",
              "      <td>3850</td>\n",
              "      <td>3</td>\n",
              "      <td>1</td>\n",
              "      <td>2</td>\n",
              "    </tr>\n",
              "  </tbody>\n",
              "</table>\n",
              "</div>\n",
              "    <div class=\"colab-df-buttons\">\n",
              "\n",
              "  <div class=\"colab-df-container\">\n",
              "    <button class=\"colab-df-convert\" onclick=\"convertToInteractive('df-7d0ec102-c6a4-468d-a27d-a624980a2044')\"\n",
              "            title=\"Convert this dataframe to an interactive table.\"\n",
              "            style=\"display:none;\">\n",
              "\n",
              "  <svg xmlns=\"http://www.w3.org/2000/svg\" height=\"24px\" viewBox=\"0 -960 960 960\">\n",
              "    <path d=\"M120-120v-720h720v720H120Zm60-500h600v-160H180v160Zm220 220h160v-160H400v160Zm0 220h160v-160H400v160ZM180-400h160v-160H180v160Zm440 0h160v-160H620v160ZM180-180h160v-160H180v160Zm440 0h160v-160H620v160Z\"/>\n",
              "  </svg>\n",
              "    </button>\n",
              "\n",
              "  <style>\n",
              "    .colab-df-container {\n",
              "      display:flex;\n",
              "      gap: 12px;\n",
              "    }\n",
              "\n",
              "    .colab-df-convert {\n",
              "      background-color: #E8F0FE;\n",
              "      border: none;\n",
              "      border-radius: 50%;\n",
              "      cursor: pointer;\n",
              "      display: none;\n",
              "      fill: #1967D2;\n",
              "      height: 32px;\n",
              "      padding: 0 0 0 0;\n",
              "      width: 32px;\n",
              "    }\n",
              "\n",
              "    .colab-df-convert:hover {\n",
              "      background-color: #E2EBFA;\n",
              "      box-shadow: 0px 1px 2px rgba(60, 64, 67, 0.3), 0px 1px 3px 1px rgba(60, 64, 67, 0.15);\n",
              "      fill: #174EA6;\n",
              "    }\n",
              "\n",
              "    .colab-df-buttons div {\n",
              "      margin-bottom: 4px;\n",
              "    }\n",
              "\n",
              "    [theme=dark] .colab-df-convert {\n",
              "      background-color: #3B4455;\n",
              "      fill: #D2E3FC;\n",
              "    }\n",
              "\n",
              "    [theme=dark] .colab-df-convert:hover {\n",
              "      background-color: #434B5C;\n",
              "      box-shadow: 0px 1px 3px 1px rgba(0, 0, 0, 0.15);\n",
              "      filter: drop-shadow(0px 1px 2px rgba(0, 0, 0, 0.3));\n",
              "      fill: #FFFFFF;\n",
              "    }\n",
              "  </style>\n",
              "\n",
              "    <script>\n",
              "      const buttonEl =\n",
              "        document.querySelector('#df-7d0ec102-c6a4-468d-a27d-a624980a2044 button.colab-df-convert');\n",
              "      buttonEl.style.display =\n",
              "        google.colab.kernel.accessAllowed ? 'block' : 'none';\n",
              "\n",
              "      async function convertToInteractive(key) {\n",
              "        const element = document.querySelector('#df-7d0ec102-c6a4-468d-a27d-a624980a2044');\n",
              "        const dataTable =\n",
              "          await google.colab.kernel.invokeFunction('convertToInteractive',\n",
              "                                                    [key], {});\n",
              "        if (!dataTable) return;\n",
              "\n",
              "        const docLinkHtml = 'Like what you see? Visit the ' +\n",
              "          '<a target=\"_blank\" href=https://colab.research.google.com/notebooks/data_table.ipynb>data table notebook</a>'\n",
              "          + ' to learn more about interactive tables.';\n",
              "        element.innerHTML = '';\n",
              "        dataTable['output_type'] = 'display_data';\n",
              "        await google.colab.output.renderOutput(dataTable, element);\n",
              "        const docLink = document.createElement('div');\n",
              "        docLink.innerHTML = docLinkHtml;\n",
              "        element.appendChild(docLink);\n",
              "      }\n",
              "    </script>\n",
              "  </div>\n",
              "\n",
              "\n",
              "<div id=\"df-0785bc2f-96a1-4693-a39c-a06048020ea7\">\n",
              "  <button class=\"colab-df-quickchart\" onclick=\"quickchart('df-0785bc2f-96a1-4693-a39c-a06048020ea7')\"\n",
              "            title=\"Suggest charts\"\n",
              "            style=\"display:none;\">\n",
              "\n",
              "<svg xmlns=\"http://www.w3.org/2000/svg\" height=\"24px\"viewBox=\"0 0 24 24\"\n",
              "     width=\"24px\">\n",
              "    <g>\n",
              "        <path d=\"M19 3H5c-1.1 0-2 .9-2 2v14c0 1.1.9 2 2 2h14c1.1 0 2-.9 2-2V5c0-1.1-.9-2-2-2zM9 17H7v-7h2v7zm4 0h-2V7h2v10zm4 0h-2v-4h2v4z\"/>\n",
              "    </g>\n",
              "</svg>\n",
              "  </button>\n",
              "\n",
              "<style>\n",
              "  .colab-df-quickchart {\n",
              "      --bg-color: #E8F0FE;\n",
              "      --fill-color: #1967D2;\n",
              "      --hover-bg-color: #E2EBFA;\n",
              "      --hover-fill-color: #174EA6;\n",
              "      --disabled-fill-color: #AAA;\n",
              "      --disabled-bg-color: #DDD;\n",
              "  }\n",
              "\n",
              "  [theme=dark] .colab-df-quickchart {\n",
              "      --bg-color: #3B4455;\n",
              "      --fill-color: #D2E3FC;\n",
              "      --hover-bg-color: #434B5C;\n",
              "      --hover-fill-color: #FFFFFF;\n",
              "      --disabled-bg-color: #3B4455;\n",
              "      --disabled-fill-color: #666;\n",
              "  }\n",
              "\n",
              "  .colab-df-quickchart {\n",
              "    background-color: var(--bg-color);\n",
              "    border: none;\n",
              "    border-radius: 50%;\n",
              "    cursor: pointer;\n",
              "    display: none;\n",
              "    fill: var(--fill-color);\n",
              "    height: 32px;\n",
              "    padding: 0;\n",
              "    width: 32px;\n",
              "  }\n",
              "\n",
              "  .colab-df-quickchart:hover {\n",
              "    background-color: var(--hover-bg-color);\n",
              "    box-shadow: 0 1px 2px rgba(60, 64, 67, 0.3), 0 1px 3px 1px rgba(60, 64, 67, 0.15);\n",
              "    fill: var(--button-hover-fill-color);\n",
              "  }\n",
              "\n",
              "  .colab-df-quickchart-complete:disabled,\n",
              "  .colab-df-quickchart-complete:disabled:hover {\n",
              "    background-color: var(--disabled-bg-color);\n",
              "    fill: var(--disabled-fill-color);\n",
              "    box-shadow: none;\n",
              "  }\n",
              "\n",
              "  .colab-df-spinner {\n",
              "    border: 2px solid var(--fill-color);\n",
              "    border-color: transparent;\n",
              "    border-bottom-color: var(--fill-color);\n",
              "    animation:\n",
              "      spin 1s steps(1) infinite;\n",
              "  }\n",
              "\n",
              "  @keyframes spin {\n",
              "    0% {\n",
              "      border-color: transparent;\n",
              "      border-bottom-color: var(--fill-color);\n",
              "      border-left-color: var(--fill-color);\n",
              "    }\n",
              "    20% {\n",
              "      border-color: transparent;\n",
              "      border-left-color: var(--fill-color);\n",
              "      border-top-color: var(--fill-color);\n",
              "    }\n",
              "    30% {\n",
              "      border-color: transparent;\n",
              "      border-left-color: var(--fill-color);\n",
              "      border-top-color: var(--fill-color);\n",
              "      border-right-color: var(--fill-color);\n",
              "    }\n",
              "    40% {\n",
              "      border-color: transparent;\n",
              "      border-right-color: var(--fill-color);\n",
              "      border-top-color: var(--fill-color);\n",
              "    }\n",
              "    60% {\n",
              "      border-color: transparent;\n",
              "      border-right-color: var(--fill-color);\n",
              "    }\n",
              "    80% {\n",
              "      border-color: transparent;\n",
              "      border-right-color: var(--fill-color);\n",
              "      border-bottom-color: var(--fill-color);\n",
              "    }\n",
              "    90% {\n",
              "      border-color: transparent;\n",
              "      border-bottom-color: var(--fill-color);\n",
              "    }\n",
              "  }\n",
              "</style>\n",
              "\n",
              "  <script>\n",
              "    async function quickchart(key) {\n",
              "      const quickchartButtonEl =\n",
              "        document.querySelector('#' + key + ' button');\n",
              "      quickchartButtonEl.disabled = true;  // To prevent multiple clicks.\n",
              "      quickchartButtonEl.classList.add('colab-df-spinner');\n",
              "      try {\n",
              "        const charts = await google.colab.kernel.invokeFunction(\n",
              "            'suggestCharts', [key], {});\n",
              "      } catch (error) {\n",
              "        console.error('Error during call to suggestCharts:', error);\n",
              "      }\n",
              "      quickchartButtonEl.classList.remove('colab-df-spinner');\n",
              "      quickchartButtonEl.classList.add('colab-df-quickchart-complete');\n",
              "    }\n",
              "    (() => {\n",
              "      let quickchartButtonEl =\n",
              "        document.querySelector('#df-0785bc2f-96a1-4693-a39c-a06048020ea7 button');\n",
              "      quickchartButtonEl.style.display =\n",
              "        google.colab.kernel.accessAllowed ? 'block' : 'none';\n",
              "    })();\n",
              "  </script>\n",
              "</div>\n",
              "\n",
              "    </div>\n",
              "  </div>\n"
            ],
            "application/vnd.google.colaboratory.intrinsic+json": {
              "type": "dataframe",
              "summary": "{\n  \"name\": \"data\",\n  \"rows\": 5,\n  \"fields\": [\n    {\n      \"column\": \"price\",\n      \"properties\": {\n        \"dtype\": \"number\",\n        \"std\": 30311,\n        \"min\": 1750000,\n        \"max\": 1820000,\n        \"num_unique_values\": 3,\n        \"samples\": [\n          1820000,\n          1767150,\n          1750000\n        ],\n        \"semantic_type\": \"\",\n        \"description\": \"\"\n      }\n    },\n    {\n      \"column\": \"area\",\n      \"properties\": {\n        \"dtype\": \"number\",\n        \"std\": 581,\n        \"min\": 2400,\n        \"max\": 3850,\n        \"num_unique_values\": 5,\n        \"samples\": [\n          2400,\n          3850,\n          3620\n        ],\n        \"semantic_type\": \"\",\n        \"description\": \"\"\n      }\n    },\n    {\n      \"column\": \"bedrooms\",\n      \"properties\": {\n        \"dtype\": \"number\",\n        \"std\": 0,\n        \"min\": 2,\n        \"max\": 3,\n        \"num_unique_values\": 2,\n        \"samples\": [\n          3,\n          2\n        ],\n        \"semantic_type\": \"\",\n        \"description\": \"\"\n      }\n    },\n    {\n      \"column\": \"bathrooms\",\n      \"properties\": {\n        \"dtype\": \"number\",\n        \"std\": 0,\n        \"min\": 1,\n        \"max\": 1,\n        \"num_unique_values\": 1,\n        \"samples\": [\n          1\n        ],\n        \"semantic_type\": \"\",\n        \"description\": \"\"\n      }\n    },\n    {\n      \"column\": \"stories\",\n      \"properties\": {\n        \"dtype\": \"number\",\n        \"std\": 0,\n        \"min\": 1,\n        \"max\": 2,\n        \"num_unique_values\": 2,\n        \"samples\": [\n          2\n        ],\n        \"semantic_type\": \"\",\n        \"description\": \"\"\n      }\n    }\n  ]\n}"
            }
          },
          "metadata": {},
          "execution_count": 43
        }
      ]
    },
    {
      "cell_type": "code",
      "metadata": {
        "id": "1iKeROtqpI2d",
        "colab": {
          "base_uri": "https://localhost:8080/"
        },
        "outputId": "c710bd46-02b2-4e57-9ad9-8938523677b0"
      },
      "source": [
        "# check the shape of the DataFrame (rows, columns)\n",
        "data.shape"
      ],
      "execution_count": 44,
      "outputs": [
        {
          "output_type": "execute_result",
          "data": {
            "text/plain": [
              "(545, 5)"
            ]
          },
          "metadata": {},
          "execution_count": 44
        }
      ]
    },
    {
      "cell_type": "markdown",
      "metadata": {
        "id": "-CUyzQGWpI2i"
      },
      "source": [
        "What are the features?\n",
        "- **TV:** advertising dollars spent on TV for a single product in a given market (in thousands of dollars)\n",
        "- **Radio:** advertising dollars spent on Radio\n",
        "- **Newspaper:** advertising dollars spent on Newspaper\n",
        "\n",
        "What is the response?\n",
        "- **Sales:** sales of a single product in a given market (in thousands of items)\n",
        "\n",
        "What else do we know?\n",
        "- Because the response variable is continuous, this is a **regression** problem.\n",
        "- There are 200 **observations** (represented by the rows), and each observation is a single market."
      ]
    },
    {
      "cell_type": "markdown",
      "metadata": {
        "id": "gCuelhk1pI2k"
      },
      "source": [
        "## Visualizing data\n"
      ]
    },
    {
      "cell_type": "code",
      "metadata": {
        "id": "3fkNfhLBpI2m"
      },
      "source": [
        "# conventional way to import seaborn\n",
        "import matplotlib.pyplot as plt\n",
        "\n",
        "# allow plots to appear within the notebook\n",
        "%matplotlib inline"
      ],
      "execution_count": 45,
      "outputs": []
    },
    {
      "cell_type": "code",
      "metadata": {
        "id": "w1vXhqHdxx6y",
        "colab": {
          "base_uri": "https://localhost:8080/",
          "height": 1000
        },
        "outputId": "ec0be8c7-d6da-464e-f905-abb2742e754f"
      },
      "source": [
        "data.plot(kind='scatter',x='area',y='price',color='red')\n",
        "data.plot(kind='scatter',x='bedrooms',y='price',color='blue')\n",
        "data.plot(kind='scatter',x='bathrooms',y='price',color='green')"
      ],
      "execution_count": 46,
      "outputs": [
        {
          "output_type": "execute_result",
          "data": {
            "text/plain": [
              "<Axes: xlabel='bathrooms', ylabel='price'>"
            ]
          },
          "metadata": {},
          "execution_count": 46
        },
        {
          "output_type": "display_data",
          "data": {
            "text/plain": [
              "<Figure size 640x480 with 1 Axes>"
            ],
            "image/png": "[encoded data removed]"
          },
          "metadata": {}
        },
        {
          "output_type": "display_data",
          "data": {
            "text/plain": [
              "<Figure size 640x480 with 1 Axes>"
            ],
            "image/png": "[encoded data removed]"
          },
          "metadata": {}
        },
        {
          "output_type": "display_data",
          "data": {
            "text/plain": [
              "<Figure size 640x480 with 1 Axes>"
            ],
            "image/png": "[encoded data removed]"
          },
          "metadata": {}
        }
      ]
    },
    {
      "cell_type": "markdown",
      "metadata": {
        "id": "qfbyxHpYpI2w"
      },
      "source": [
        "## Linear regression\n",
        "\n",
        "**Pros:** fast, no tuning required, highly interpretable, well-understood\n",
        "\n",
        "**Cons:** unlikely to produce the best predictive accuracy (presumes a linear relationship between the features and response)"
      ]
    },
    {
      "cell_type": "markdown",
      "metadata": {
        "id": "xUHmkNnEpI2y"
      },
      "source": [
        "### Form of linear regression\n",
        "\n",
        "$y = \\beta_0 + \\beta_1x_1 + \\beta_2x_2 + ... + \\beta_nx_n$\n",
        "\n",
        "- $y$ is the response\n",
        "- $\\beta_0$ is the intercept\n",
        "- $\\beta_1$ is the coefficient for $x_1$ (the first feature)\n",
        "- $\\beta_n$ is the coefficient for $x_n$ (the nth feature)\n",
        "\n",
        "In this case:\n",
        "\n",
        "$y = \\beta_0 + \\beta_1 \\times TV + \\beta_2 \\times Radio + \\beta_3 \\times Newspaper$\n",
        "\n",
        "The $\\beta$ values are called the **model coefficients**. These values are \"learned\" during the model fitting step using the \"least squares\" criterion. Then, the fitted model can be used to make predictions!"
      ]
    },
    {
      "cell_type": "markdown",
      "metadata": {
        "id": "Rxh70YEUpI2z"
      },
      "source": [
        "## Preparing X and y using pandas\n",
        "\n",
        "- scikit-learn expects X (feature matrix) and y (response vector) to be NumPy arrays.\n",
        "- However, pandas is built on top of NumPy.\n",
        "- Thus, X can be a pandas DataFrame and y can be a pandas Series!"
      ]
    },
    {
      "cell_type": "code",
      "metadata": {
        "id": "UO9ImBFspI21",
        "colab": {
          "base_uri": "https://localhost:8080/",
          "height": 206
        },
        "outputId": "0f6ea377-2927-4558-f752-1addf6bfecf1"
      },
      "source": [
        "# create a Python list of feature names\n",
        "feature_cols = ['area', 'bedrooms', 'bathrooms', 'stories']\n",
        "\n",
        "# use the list to select a subset of the original DataFrame\n",
        "X = data[feature_cols]\n",
        "\n",
        "# equivalent command to do this in one line\n",
        "X = data[['area', 'bedrooms', 'bathrooms', 'stories']]\n",
        "\n",
        "# print the first 5 rows\n",
        "X.head()\n"
      ],
      "execution_count": 47,
      "outputs": [
        {
          "output_type": "execute_result",
          "data": {
            "text/plain": [
              "   area  bedrooms  bathrooms  stories\n",
              "0  7420         4          2        3\n",
              "1  8960         4          4        4\n",
              "2  9960         3          2        2\n",
              "3  7500         4          2        2\n",
              "4  7420         4          1        2"
            ],
            "text/html": [
              "\n",
              "  <div id=\"df-4810d3c3-cb8f-46ce-b014-ab10c6658cf5\" class=\"colab-df-container\">\n",
              "    <div>\n",
              "<style scoped>\n",
              "    .dataframe tbody tr th:only-of-type {\n",
              "        vertical-align: middle;\n",
              "    }\n",
              "\n",
              "    .dataframe tbody tr th {\n",
              "        vertical-align: top;\n",
              "    }\n",
              "\n",
              "    .dataframe thead th {\n",
              "        text-align: right;\n",
              "    }\n",
              "</style>\n",
              "<table border=\"1\" class=\"dataframe\">\n",
              "  <thead>\n",
              "    <tr style=\"text-align: right;\">\n",
              "      <th></th>\n",
              "      <th>area</th>\n",
              "      <th>bedrooms</th>\n",
              "      <th>bathrooms</th>\n",
              "      <th>stories</th>\n",
              "    </tr>\n",
              "  </thead>\n",
              "  <tbody>\n",
              "    <tr>\n",
              "      <th>0</th>\n",
              "      <td>7420</td>\n",
              "      <td>4</td>\n",
              "      <td>2</td>\n",
              "      <td>3</td>\n",
              "    </tr>\n",
              "    <tr>\n",
              "      <th>1</th>\n",
              "      <td>8960</td>\n",
              "      <td>4</td>\n",
              "      <td>4</td>\n",
              "      <td>4</td>\n",
              "    </tr>\n",
              "    <tr>\n",
              "      <th>2</th>\n",
              "      <td>9960</td>\n",
              "      <td>3</td>\n",
              "      <td>2</td>\n",
              "      <td>2</td>\n",
              "    </tr>\n",
              "    <tr>\n",
              "      <th>3</th>\n",
              "      <td>7500</td>\n",
              "      <td>4</td>\n",
              "      <td>2</td>\n",
              "      <td>2</td>\n",
              "    </tr>\n",
              "    <tr>\n",
              "      <th>4</th>\n",
              "      <td>7420</td>\n",
              "      <td>4</td>\n",
              "      <td>1</td>\n",
              "      <td>2</td>\n",
              "    </tr>\n",
              "  </tbody>\n",
              "</table>\n",
              "</div>\n",
              "    <div class=\"colab-df-buttons\">\n",
              "\n",
              "  <div class=\"colab-df-container\">\n",
              "    <button class=\"colab-df-convert\" onclick=\"convertToInteractive('df-4810d3c3-cb8f-46ce-b014-ab10c6658cf5')\"\n",
              "            title=\"Convert this dataframe to an interactive table.\"\n",
              "            style=\"display:none;\">\n",
              "\n",
              "  <svg xmlns=\"http://www.w3.org/2000/svg\" height=\"24px\" viewBox=\"0 -960 960 960\">\n",
              "    <path d=\"M120-120v-720h720v720H120Zm60-500h600v-160H180v160Zm220 220h160v-160H400v160Zm0 220h160v-160H400v160ZM180-400h160v-160H180v160Zm440 0h160v-160H620v160ZM180-180h160v-160H180v160Zm440 0h160v-160H620v160Z\"/>\n",
              "  </svg>\n",
              "    </button>\n",
              "\n",
              "  <style>\n",
              "    .colab-df-container {\n",
              "      display:flex;\n",
              "      gap: 12px;\n",
              "    }\n",
              "\n",
              "    .colab-df-convert {\n",
              "      background-color: #E8F0FE;\n",
              "      border: none;\n",
              "      border-radius: 50%;\n",
              "      cursor: pointer;\n",
              "      display: none;\n",
              "      fill: #1967D2;\n",
              "      height: 32px;\n",
              "      padding: 0 0 0 0;\n",
              "      width: 32px;\n",
              "    }\n",
              "\n",
              "    .colab-df-convert:hover {\n",
              "      background-color: #E2EBFA;\n",
              "      box-shadow: 0px 1px 2px rgba(60, 64, 67, 0.3), 0px 1px 3px 1px rgba(60, 64, 67, 0.15);\n",
              "      fill: #174EA6;\n",
              "    }\n",
              "\n",
              "    .colab-df-buttons div {\n",
              "      margin-bottom: 4px;\n",
              "    }\n",
              "\n",
              "    [theme=dark] .colab-df-convert {\n",
              "      background-color: #3B4455;\n",
              "      fill: #D2E3FC;\n",
              "    }\n",
              "\n",
              "    [theme=dark] .colab-df-convert:hover {\n",
              "      background-color: #434B5C;\n",
              "      box-shadow: 0px 1px 3px 1px rgba(0, 0, 0, 0.15);\n",
              "      filter: drop-shadow(0px 1px 2px rgba(0, 0, 0, 0.3));\n",
              "      fill: #FFFFFF;\n",
              "    }\n",
              "  </style>\n",
              "\n",
              "    <script>\n",
              "      const buttonEl =\n",
              "        document.querySelector('#df-4810d3c3-cb8f-46ce-b014-ab10c6658cf5 button.colab-df-convert');\n",
              "      buttonEl.style.display =\n",
              "        google.colab.kernel.accessAllowed ? 'block' : 'none';\n",
              "\n",
              "      async function convertToInteractive(key) {\n",
              "        const element = document.querySelector('#df-4810d3c3-cb8f-46ce-b014-ab10c6658cf5');\n",
              "        const dataTable =\n",
              "          await google.colab.kernel.invokeFunction('convertToInteractive',\n",
              "                                                    [key], {});\n",
              "        if (!dataTable) return;\n",
              "\n",
              "        const docLinkHtml = 'Like what you see? Visit the ' +\n",
              "          '<a target=\"_blank\" href=https://colab.research.google.com/notebooks/data_table.ipynb>data table notebook</a>'\n",
              "          + ' to learn more about interactive tables.';\n",
              "        element.innerHTML = '';\n",
              "        dataTable['output_type'] = 'display_data';\n",
              "        await google.colab.output.renderOutput(dataTable, element);\n",
              "        const docLink = document.createElement('div');\n",
              "        docLink.innerHTML = docLinkHtml;\n",
              "        element.appendChild(docLink);\n",
              "      }\n",
              "    </script>\n",
              "  </div>\n",
              "\n",
              "\n",
              "<div id=\"df-5c695f42-13e1-4d1f-a35b-9662bbc8e2cb\">\n",
              "  <button class=\"colab-df-quickchart\" onclick=\"quickchart('df-5c695f42-13e1-4d1f-a35b-9662bbc8e2cb')\"\n",
              "            title=\"Suggest charts\"\n",
              "            style=\"display:none;\">\n",
              "\n",
              "<svg xmlns=\"http://www.w3.org/2000/svg\" height=\"24px\"viewBox=\"0 0 24 24\"\n",
              "     width=\"24px\">\n",
              "    <g>\n",
              "        <path d=\"M19 3H5c-1.1 0-2 .9-2 2v14c0 1.1.9 2 2 2h14c1.1 0 2-.9 2-2V5c0-1.1-.9-2-2-2zM9 17H7v-7h2v7zm4 0h-2V7h2v10zm4 0h-2v-4h2v4z\"/>\n",
              "    </g>\n",
              "</svg>\n",
              "  </button>\n",
              "\n",
              "<style>\n",
              "  .colab-df-quickchart {\n",
              "      --bg-color: #E8F0FE;\n",
              "      --fill-color: #1967D2;\n",
              "      --hover-bg-color: #E2EBFA;\n",
              "      --hover-fill-color: #174EA6;\n",
              "      --disabled-fill-color: #AAA;\n",
              "      --disabled-bg-color: #DDD;\n",
              "  }\n",
              "\n",
              "  [theme=dark] .colab-df-quickchart {\n",
              "      --bg-color: #3B4455;\n",
              "      --fill-color: #D2E3FC;\n",
              "      --hover-bg-color: #434B5C;\n",
              "      --hover-fill-color: #FFFFFF;\n",
              "      --disabled-bg-color: #3B4455;\n",
              "      --disabled-fill-color: #666;\n",
              "  }\n",
              "\n",
              "  .colab-df-quickchart {\n",
              "    background-color: var(--bg-color);\n",
              "    border: none;\n",
              "    border-radius: 50%;\n",
              "    cursor: pointer;\n",
              "    display: none;\n",
              "    fill: var(--fill-color);\n",
              "    height: 32px;\n",
              "    padding: 0;\n",
              "    width: 32px;\n",
              "  }\n",
              "\n",
              "  .colab-df-quickchart:hover {\n",
              "    background-color: var(--hover-bg-color);\n",
              "    box-shadow: 0 1px 2px rgba(60, 64, 67, 0.3), 0 1px 3px 1px rgba(60, 64, 67, 0.15);\n",
              "    fill: var(--button-hover-fill-color);\n",
              "  }\n",
              "\n",
              "  .colab-df-quickchart-complete:disabled,\n",
              "  .colab-df-quickchart-complete:disabled:hover {\n",
              "    background-color: var(--disabled-bg-color);\n",
              "    fill: var(--disabled-fill-color);\n",
              "    box-shadow: none;\n",
              "  }\n",
              "\n",
              "  .colab-df-spinner {\n",
              "    border: 2px solid var(--fill-color);\n",
              "    border-color: transparent;\n",
              "    border-bottom-color: var(--fill-color);\n",
              "    animation:\n",
              "      spin 1s steps(1) infinite;\n",
              "  }\n",
              "\n",
              "  @keyframes spin {\n",
              "    0% {\n",
              "      border-color: transparent;\n",
              "      border-bottom-color: var(--fill-color);\n",
              "      border-left-color: var(--fill-color);\n",
              "    }\n",
              "    20% {\n",
              "      border-color: transparent;\n",
              "      border-left-color: var(--fill-color);\n",
              "      border-top-color: var(--fill-color);\n",
              "    }\n",
              "    30% {\n",
              "      border-color: transparent;\n",
              "      border-left-color: var(--fill-color);\n",
              "      border-top-color: var(--fill-color);\n",
              "      border-right-color: var(--fill-color);\n",
              "    }\n",
              "    40% {\n",
              "      border-color: transparent;\n",
              "      border-right-color: var(--fill-color);\n",
              "      border-top-color: var(--fill-color);\n",
              "    }\n",
              "    60% {\n",
              "      border-color: transparent;\n",
              "      border-right-color: var(--fill-color);\n",
              "    }\n",
              "    80% {\n",
              "      border-color: transparent;\n",
              "      border-right-color: var(--fill-color);\n",
              "      border-bottom-color: var(--fill-color);\n",
              "    }\n",
              "    90% {\n",
              "      border-color: transparent;\n",
              "      border-bottom-color: var(--fill-color);\n",
              "    }\n",
              "  }\n",
              "</style>\n",
              "\n",
              "  <script>\n",
              "    async function quickchart(key) {\n",
              "      const quickchartButtonEl =\n",
              "        document.querySelector('#' + key + ' button');\n",
              "      quickchartButtonEl.disabled = true;  // To prevent multiple clicks.\n",
              "      quickchartButtonEl.classList.add('colab-df-spinner');\n",
              "      try {\n",
              "        const charts = await google.colab.kernel.invokeFunction(\n",
              "            'suggestCharts', [key], {});\n",
              "      } catch (error) {\n",
              "        console.error('Error during call to suggestCharts:', error);\n",
              "      }\n",
              "      quickchartButtonEl.classList.remove('colab-df-spinner');\n",
              "      quickchartButtonEl.classList.add('colab-df-quickchart-complete');\n",
              "    }\n",
              "    (() => {\n",
              "      let quickchartButtonEl =\n",
              "        document.querySelector('#df-5c695f42-13e1-4d1f-a35b-9662bbc8e2cb button');\n",
              "      quickchartButtonEl.style.display =\n",
              "        google.colab.kernel.accessAllowed ? 'block' : 'none';\n",
              "    })();\n",
              "  </script>\n",
              "</div>\n",
              "\n",
              "    </div>\n",
              "  </div>\n"
            ],
            "application/vnd.google.colaboratory.intrinsic+json": {
              "type": "dataframe",
              "variable_name": "X",
              "summary": "{\n  \"name\": \"X\",\n  \"rows\": 545,\n  \"fields\": [\n    {\n      \"column\": \"area\",\n      \"properties\": {\n        \"dtype\": \"number\",\n        \"std\": 2170,\n        \"min\": 1650,\n        \"max\": 16200,\n        \"num_unique_values\": 284,\n        \"samples\": [\n          6000,\n          2684,\n          5360\n        ],\n        \"semantic_type\": \"\",\n        \"description\": \"\"\n      }\n    },\n    {\n      \"column\": \"bedrooms\",\n      \"properties\": {\n        \"dtype\": \"number\",\n        \"std\": 0,\n        \"min\": 1,\n        \"max\": 6,\n        \"num_unique_values\": 6,\n        \"samples\": [\n          4,\n          3,\n          1\n        ],\n        \"semantic_type\": \"\",\n        \"description\": \"\"\n      }\n    },\n    {\n      \"column\": \"bathrooms\",\n      \"properties\": {\n        \"dtype\": \"number\",\n        \"std\": 0,\n        \"min\": 1,\n        \"max\": 4,\n        \"num_unique_values\": 4,\n        \"samples\": [\n          4,\n          3,\n          2\n        ],\n        \"semantic_type\": \"\",\n        \"description\": \"\"\n      }\n    },\n    {\n      \"column\": \"stories\",\n      \"properties\": {\n        \"dtype\": \"number\",\n        \"std\": 0,\n        \"min\": 1,\n        \"max\": 4,\n        \"num_unique_values\": 4,\n        \"samples\": [\n          4,\n          1,\n          3\n        ],\n        \"semantic_type\": \"\",\n        \"description\": \"\"\n      }\n    }\n  ]\n}"
            }
          },
          "metadata": {},
          "execution_count": 47
        }
      ]
    },
    {
      "cell_type": "code",
      "metadata": {
        "id": "DKeFX3OFpI27",
        "colab": {
          "base_uri": "https://localhost:8080/"
        },
        "outputId": "986c2f6a-5732-4763-f97b-aaaf29c21365"
      },
      "source": [
        "# check the type and shape of X\n",
        "print(type(X))\n",
        "print(X.shape)"
      ],
      "execution_count": 48,
      "outputs": [
        {
          "output_type": "stream",
          "name": "stdout",
          "text": [
            "<class 'pandas.core.frame.DataFrame'>\n",
            "(545, 4)\n"
          ]
        }
      ]
    },
    {
      "cell_type": "code",
      "metadata": {
        "id": "uiYKNxDbpI3C",
        "colab": {
          "base_uri": "https://localhost:8080/"
        },
        "outputId": "b00e9aa3-73dd-475b-eef0-9e4f8d7c55a5"
      },
      "source": [
        "# select a Series from the DataFrame\n",
        "lab = ['price']\n",
        "\n",
        "# equivalent command that works if there are no spaces in the column name\n",
        "y =  data['price']\n",
        "\n",
        "\n",
        "\n",
        "# print the first 5 values\n",
        "y.head()"
      ],
      "execution_count": 49,
      "outputs": [
        {
          "output_type": "execute_result",
          "data": {
            "text/plain": [
              "0    13300000\n",
              "1    12250000\n",
              "2    12250000\n",
              "3    12215000\n",
              "4    11410000\n",
              "Name: price, dtype: int64"
            ]
          },
          "metadata": {},
          "execution_count": 49
        }
      ]
    },
    {
      "cell_type": "code",
      "metadata": {
        "id": "AfvkPrA6pI3H",
        "colab": {
          "base_uri": "https://localhost:8080/"
        },
        "outputId": "671ceb96-bd1a-4570-ed58-87bccd8b6c2f"
      },
      "source": [
        "# check the type and shape of y\n",
        "print(type(y))\n",
        "print(y.shape)"
      ],
      "execution_count": 50,
      "outputs": [
        {
          "output_type": "stream",
          "name": "stdout",
          "text": [
            "<class 'pandas.core.series.Series'>\n",
            "(545,)\n"
          ]
        }
      ]
    },
    {
      "cell_type": "markdown",
      "metadata": {
        "id": "S5NDF5GgpI3M"
      },
      "source": [
        "## Splitting X and y into training and testing sets"
      ]
    },
    {
      "cell_type": "code",
      "metadata": {
        "id": "4ttrUI0ipI3O"
      },
      "source": [
        "from sklearn.model_selection import train_test_split\n",
        "X_train, X_test, y_train, y_test = train_test_split(X, y, random_state=1)"
      ],
      "execution_count": 51,
      "outputs": []
    },
    {
      "cell_type": "code",
      "metadata": {
        "id": "LjEViy1MpI3S",
        "colab": {
          "base_uri": "https://localhost:8080/"
        },
        "outputId": "02664e36-d3bd-484d-8daf-0b0386c2c2b1"
      },
      "source": [
        "# default split is 75% for training and 25% for testing\n",
        "print(X_train.shape)\n",
        "print(y_train.shape)\n",
        "print(X_test.shape)\n",
        "print(y_test.shape)\n",
        "# X_train = X_train[:150]\n",
        "\n",
        "print(X_test)"
      ],
      "execution_count": 52,
      "outputs": [
        {
          "output_type": "stream",
          "name": "stdout",
          "text": [
            "(408, 4)\n",
            "(408,)\n",
            "(137, 4)\n",
            "(137,)\n",
            "      area  bedrooms  bathrooms  stories\n",
            "62    6240         4          2        2\n",
            "247   8400         4          1        4\n",
            "142  10500         4          2        2\n",
            "107   6420         3          1        3\n",
            "483   6615         3          1        2\n",
            "..     ...       ...        ...      ...\n",
            "246   3520         3          1        1\n",
            "436   2145         3          1        2\n",
            "110   6600         3          1        1\n",
            "396   3640         2          1        1\n",
            "446   3986         2          2        1\n",
            "\n",
            "[137 rows x 4 columns]\n"
          ]
        }
      ]
    },
    {
      "cell_type": "markdown",
      "metadata": {
        "id": "WHpXdcBZpI3Z"
      },
      "source": [
        "## Linear regression in scikit-learn"
      ]
    },
    {
      "cell_type": "code",
      "metadata": {
        "id": "bQdAJ_3MpI3a"
      },
      "source": [
        "# import model\n",
        "from sklearn.linear_model import LinearRegression\n",
        "\n",
        "# instantiate\n",
        "linreg = LinearRegression()\n",
        "\n",
        "# fit the model to the training data (learn the coefficients)\n",
        "model = linreg.fit(X_train, y_train)\n",
        "\n"
      ],
      "execution_count": 54,
      "outputs": []
    },
    {
      "cell_type": "code",
      "metadata": {
        "id": "M-aOCgqN1XWA"
      },
      "source": [],
      "execution_count": null,
      "outputs": []
    },
    {
      "cell_type": "markdown",
      "metadata": {
        "id": "qrHhBZ3fpI3s"
      },
      "source": [
        "### Making predictions"
      ]
    },
    {
      "cell_type": "code",
      "metadata": {
        "id": "Z34zuNqhpI3v",
        "colab": {
          "base_uri": "https://localhost:8080/"
        },
        "outputId": "df7b58df-c50f-43cb-ea08-0b532f37325f"
      },
      "source": [
        "# make predictions on the testing set\n",
        "y_pred = linreg.predict(X_test)\n",
        "print(y_pred)"
      ],
      "execution_count": 55,
      "outputs": [
        {
          "output_type": "stream",
          "name": "stdout",
          "text": [
            "[6294430.2957738  6851055.0662962  7803491.63517324 5480205.855478\n",
            " 5004319.6376927  3266832.28455562 3139305.97418384 6088931.97990058\n",
            " 2948016.50862617 4432222.43977484 3599759.02484792 4477010.03032917\n",
            " 4906337.45880497 4096202.29796899 6142165.8285082  7257396.1712291\n",
            " 3507715.31525788 4117007.68703418 6421956.60614558 3284190.03235623\n",
            " 3748032.09860642 5907801.34547287 6543832.04122333 3787506.09289526\n",
            " 5110254.28397398 5636637.59328612 3054288.43393598 7105131.70396351\n",
            " 7086287.22170443 3965830.91981307 7302373.46983439 7360823.02875479\n",
            " 4650250.22930667 4733326.22815266 6171681.84949389 3553200.23553841\n",
            " 5851630.60698288 2942348.67260964 5048033.35921807 4900173.15088908\n",
            " 5087507.35350691 3893778.01820508 3798133.28542625 4539001.9867599\n",
            " 5333006.65074847 3532512.09783017 4063871.72437927 3553766.48289214\n",
            " 2877168.55841962 4024846.72608719 5085965.12307693 3781129.77737667\n",
            " 3231408.30945235 3653461.23485655 4272873.17748858 4435764.83728516\n",
            " 3599251.40317267 4403883.25969222 3448002.17925756 3343348.07077869\n",
            " 7174847.15946261 6230627.88031367 3281001.87459693 4106321.86882472\n",
            " 3589698.07967066 3022406.85634304 4138262.07209614 3848234.47224607\n",
            " 5071240.43545777 3697233.58206039 4356060.8933028  4454043.07219052\n",
            " 5416481.96056634 3266832.28455562 4241499.22157088 3307357.8483217\n",
            " 3054288.43393598 5413974.17181075 4602823.76762427 3224323.5144317\n",
            " 4772292.60076626 4449368.17997275 6233701.91642299 5699366.13971728\n",
            " 6075270.01153451 5553561.59444014 3723742.93770937 3118051.58912188\n",
            " 4135227.29626106 3362984.63900971 3422697.77501003 4170651.27136434\n",
            " 3107932.01826614 7344882.23995832 3748598.34596014 4294576.55854732\n",
            " 7369776.90848332 4198990.45144696 5711086.56668148 5678053.12897684\n",
            " 3355392.22231381 8060446.53704444 3766251.7078333  4074440.29123178\n",
            " 4111635.46509021 6749759.45822333 6667533.89446985 4744012.04636212\n",
            " 4276923.19667416 3559587.70083287 4981294.05387557 3692935.22914539\n",
            " 4209051.39662421 3242543.12365858 4595231.35092837 3904405.21073607\n",
            " 3950456.37837032 6032292.88000957 5038538.66139453 6421956.60614558\n",
            " 7426923.63004957 3537767.06841719 3479883.75685051 4255102.56425847\n",
            " 3309341.05467955 4330000.53365059 5618984.23141296 6997727.28394624\n",
            " 4067355.49621112 3883150.8256741  3479883.75685051 5154305.28452789\n",
            " 3362984.63900971 3420867.95057639 4454043.07219052 3281001.87459693\n",
            " 4702027.85863593]\n"
          ]
        }
      ]
    },
    {
      "cell_type": "markdown",
      "metadata": {
        "id": "hTGDsYHcJBDn"
      },
      "source": [
        "We need an **evaluation metric** in order to compare our predictions with the actual values!"
      ]
    }
  ]
}