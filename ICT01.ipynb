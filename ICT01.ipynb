{
  "nbformat": 4,
  "nbformat_minor": 0,
  "metadata": {
    "colab": {
      "provenance": [],
      "authorship_tag": "ABX9TyOOcmoBg6zACkzVvUhHoiR6",
      "include_colab_link": true
    },
    "kernelspec": {
      "name": "python3",
      "display_name": "Python 3"
    },
    "language_info": {
      "name": "python"
    }
  },
  "cells": [
    {
      "cell_type": "markdown",
      "metadata": {
        "id": "view-in-github",
        "colab_type": "text"
      },
      "source": [
        "<a href=\"https://colab.research.google.com/github/Ananthucsajayan/Machine-learning-ICT/blob/main/ICT01.ipynb\" target=\"_parent\"><img src=\"https://colab.research.google.com/assets/colab-badge.svg\" alt=\"Open In Colab\"/></a>"
      ]
    },
    {
      "cell_type": "code",
      "execution_count": null,
      "metadata": {
        "id": "t8vnK4HT66u5"
      },
      "outputs": [],
      "source": [
        "class Calculator:\n",
        "    def addition(self, a, b):\n",
        "        print(a + b)\n",
        "\n",
        "    def subtraction(self, a, b):\n",
        "        print(a - b)\n",
        "\n",
        "    def multiplication(self, a, b):\n",
        "        print(a * b)\n",
        "\n",
        "    def division(self, a, b):\n",
        "        print(a / b)\n",
        "\n",
        "operation = input(\"Enter the operation (e.g., '5 + 3'): \")\n",
        "\n",
        "\n",
        "try:\n",
        "    num1, operator, num2 = operation.split()\n",
        "    num1, num2 = int(num1), int(num2)\n",
        "except ValueError:\n",
        "    print(\"Invalid input. Please provide a valid operation.\")\n",
        "\n",
        "\n",
        "obj = Calculator()\n",
        "\n",
        "\n",
        "if operator == \"+\":\n",
        "    obj.addition(num1, num2)\n",
        "elif operator == \"-\":\n",
        "    obj.subtraction(num1, num2)\n",
        "elif operator == \"*\":\n",
        "    obj.multiplication(num1, num2)\n",
        "elif operator == \"/\":\n",
        "    obj.division(num1, num2)\n",
        "else:\n",
        "    print(\"Invalid operator. Please use +, -, *, or /.\")"
      ]
    }
  ]
}