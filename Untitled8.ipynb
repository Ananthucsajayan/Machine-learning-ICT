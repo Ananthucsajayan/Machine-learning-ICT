{
  "nbformat": 4,
  "nbformat_minor": 0,
  "metadata": {
    "colab": {
      "provenance": [],
      "authorship_tag": "ABX9TyMGP6r5GYWeUlQ+6izKtqL5",
      "include_colab_link": true
    },
    "kernelspec": {
      "name": "python3",
      "display_name": "Python 3"
    },
    "language_info": {
      "name": "python"
    }
  },
  "cells": [
    {
      "cell_type": "markdown",
      "metadata": {
        "id": "view-in-github",
        "colab_type": "text"
      },
      "source": [
        "<a href=\"https://colab.research.google.com/github/Ananthucsajayan/Machine-learning-ICT/blob/main/Untitled8.ipynb\" target=\"_parent\"><img src=\"https://colab.research.google.com/assets/colab-badge.svg\" alt=\"Open In Colab\"/></a>"
      ]
    },
    {
      "cell_type": "code",
      "execution_count": 8,
      "metadata": {
        "colab": {
          "base_uri": "https://localhost:8080/"
        },
        "id": "eZSmmDh7Jq6X",
        "outputId": "6957fde7-1720-446c-8d51-90457df2b1e2"
      },
      "outputs": [
        {
          "output_type": "stream",
          "name": "stdout",
          "text": [
            "1/1 [==============================] - 0s 122ms/step\n",
            "[[-1.2110472   0.8305011  -0.59504306  0.133398   -0.693757    0.6815495\n",
            "  -1.1566436   0.02855933 -0.59858847  1.6237246 ]]\n",
            "Predicted digit: 9\n"
          ]
        }
      ],
      "source": [
        "import tensorflow as tf\n",
        "from tensorflow.keras.layers import Flatten, Dense\n",
        "from tensorflow.keras.models import Sequential\n",
        "import numpy as np\n",
        "import cv2\n",
        "\n",
        "# Load your image\n",
        "image = cv2.imread('five.jpeg')\n",
        "\n",
        "# Resize the image to 28x28 pixels\n",
        "image_resized = cv2.resize(image, (800, 800))\n",
        "\n",
        "# Convert the image to grayscale\n",
        "image_gray = cv2.cvtColor(image_resized, cv2.COLOR_BGR2GRAY)\n",
        "\n",
        "# Normalize the pixel values\n",
        "image_normalized = image_gray / 255.0\n",
        "\n",
        "# Reshape the image to match the input shape expected by the model\n",
        "image_reshaped = np.expand_dims(image_normalized, axis=0)\n",
        "\n",
        "# Define your model\n",
        "model = Sequential([\n",
        "    Flatten(input_shape=(800, 800)),\n",
        "    Dense(128, activation='relu'),\n",
        "    Dense(10)\n",
        "])\n",
        "\n",
        "# Compile the model\n",
        "model.compile(\n",
        "    optimizer=tf.keras.optimizers.Adam(0.001),\n",
        "    loss=tf.keras.losses.SparseCategoricalCrossentropy(from_logits=True),\n",
        "    metrics=[tf.keras.metrics.SparseCategoricalAccuracy()]\n",
        ")\n",
        "\n",
        "# Make predictions\n",
        "predictions = model.predict(image_reshaped)\n",
        "\n",
        "# Display predictions\n",
        "print(predictions)\n",
        "\n",
        "recognized_digit = np.argmax(predictions)\n",
        "\n",
        "# Display predictions\n",
        "print(\"Predicted digit:\", recognized_digit)\n"
      ]
    },
    {
      "cell_type": "code",
      "source": [],
      "metadata": {
        "id": "wc4KrbZTMQH8"
      },
      "execution_count": 2,
      "outputs": []
    }
  ]
}